{
  "nbformat": 4,
  "nbformat_minor": 0,
  "metadata": {
    "colab": {
      "name": "edited_RippleNet_timeseries_prediction.ipynb",
      "provenance": [],
      "collapsed_sections": [],
      "include_colab_link": true
    },
    "kernelspec": {
      "display_name": "Python 3",
      "language": "python",
      "name": "python3"
    },
    "language_info": {
      "codemirror_mode": {
        "name": "ipython",
        "version": 3
      },
      "file_extension": ".py",
      "mimetype": "text/x-python",
      "name": "python",
      "nbconvert_exporter": "python",
      "pygments_lexer": "ipython3",
      "version": "3.6.10"
    }
  },
  "cells": [
    {
      "cell_type": "markdown",
      "metadata": {
        "id": "view-in-github",
        "colab_type": "text"
      },
      "source": [
        "<a href=\"https://colab.research.google.com/github/jimzhang629/RippleNet/blob/master/edited_RippleNet_timeseries_prediction.ipynb\" target=\"_parent\"><img src=\"https://colab.research.google.com/assets/colab-badge.svg\" alt=\"Open In Colab\"/></a>"
      ]
    },
    {
      "cell_type": "markdown",
      "metadata": {
        "id": "SrTlOU5Y-tYy"
      },
      "source": [
        "# RippleNet_timeseries_prediction\n",
        "Plotting codes for manuscript figures 1A, 8-11 in E. Hagen, A.R. Chambers, G.T. Einevoll, K.H.Pettersen, R. Enger and A.J. Stasik (2020). \n",
        "\n",
        "Author: Espen Hagen (<https://github.com/espenhgn>)\n",
        "\n",
        "LICENSE: <https://github.com/CINPLA/RippleNet/blob/master/LICENSE>"
      ]
    },
    {
      "cell_type": "code",
      "metadata": {
        "id": "PYdpuDO2-tY1",
        "colab": {
          "base_uri": "https://localhost:8080/"
        },
        "outputId": "bc20b856-b940-4dcd-e68c-ce9be15462fa"
      },
      "source": [
        "# allow running on Google Colab, using data on Google Drive\n",
        "try:\n",
        "    from google.colab import drive\n",
        "    drive.mount('/content/gdrive')\n",
        "    %cd gdrive/My\\ Drive/RippleNet\n",
        "    %tensorflow_version 2.x\n",
        "except:\n",
        "    pass"
      ],
      "execution_count": 1,
      "outputs": [
        {
          "output_type": "stream",
          "text": [
            "Mounted at /content/gdrive\n",
            "/content/gdrive/My Drive/RippleNet\n"
          ],
          "name": "stdout"
        }
      ]
    },
    {
      "cell_type": "code",
      "metadata": {
        "id": "BzTYvxk--tY5"
      },
      "source": [
        "%matplotlib inline"
      ],
      "execution_count": 9,
      "outputs": []
    },
    {
      "cell_type": "code",
      "metadata": {
        "id": "GKiGpIjv-tY8"
      },
      "source": [
        "import os\n",
        "import numpy as np\n",
        "import scipy.signal as ss\n",
        "import matplotlib.pyplot as plt\n",
        "from matplotlib.gridspec import GridSpec\n",
        "import tensorflow\n",
        "import tensorflow as tf\n",
        "from tensorflow import keras\n",
        "import h5py # TODO: use tensorflow.keras.utils.HDF5Matrix\n",
        "from matplotlib import colors\n",
        "import seaborn as sns\n",
        "import pandas as pd\n",
        "import pickle\n",
        "from ripplenet.common import *"
      ],
      "execution_count": 10,
      "outputs": []
    },
    {
      "cell_type": "code",
      "metadata": {
        "id": "9SAsrjfbrpPz"
      },
      "source": [
        "plt.rcParams.update({'figure.max_open_warning': 100})\n",
        "plt.rcParams.update(rcParams)"
      ],
      "execution_count": 11,
      "outputs": []
    },
    {
      "cell_type": "code",
      "metadata": {
        "colab": {
          "base_uri": "https://localhost:8080/"
        },
        "id": "ePH0RPz0-tZA",
        "outputId": "23a2d084-141f-4b33-93d7-4d5e512bf869"
      },
      "source": [
        "from tensorflow.python.client import device_lib\n",
        "print(device_lib.list_local_devices())"
      ],
      "execution_count": 12,
      "outputs": [
        {
          "output_type": "stream",
          "text": [
            "[name: \"/device:CPU:0\"\n",
            "device_type: \"CPU\"\n",
            "memory_limit: 268435456\n",
            "locality {\n",
            "}\n",
            "incarnation: 17126338527440670560\n",
            "]\n"
          ],
          "name": "stdout"
        }
      ]
    },
    {
      "cell_type": "code",
      "metadata": {
        "colab": {
          "base_uri": "https://localhost:8080/"
        },
        "id": "E1qweUMK-tZD",
        "outputId": "5ef2cae0-2c7e-4f90-966f-90c961729737"
      },
      "source": [
        "print(tf.__version__)\n",
        "print(tf.test.gpu_device_name())\n",
        "print(\"Num GPUs Available: \", len(tf.config.experimental.list_physical_devices('GPU')))"
      ],
      "execution_count": 13,
      "outputs": [
        {
          "output_type": "stream",
          "text": [
            "2.4.1\n",
            "\n",
            "Num GPUs Available:  0\n"
          ],
          "name": "stdout"
        }
      ]
    },
    {
      "cell_type": "code",
      "metadata": {
        "id": "rF_gx1EG-tZG"
      },
      "source": [
        "# fix seeds\n",
        "np.random.seed(1234)\n",
        "tf.random.set_seed(12345)"
      ],
      "execution_count": 14,
      "outputs": []
    },
    {
      "cell_type": "code",
      "metadata": {
        "id": "9GhLrmUD3Wwd"
      },
      "source": [
        "# create folder for figure files\n",
        "if not os.path.isdir('figures'):\n",
        "    os.mkdir('figures')"
      ],
      "execution_count": 15,
      "outputs": []
    },
    {
      "cell_type": "markdown",
      "metadata": {
        "id": "-2HHcfpa-tZN"
      },
      "source": [
        "# Predictions on continuous timeseries"
      ]
    },
    {
      "cell_type": "markdown",
      "metadata": {
        "id": "FtTYmepp-tZO"
      },
      "source": [
        "## load neural network from file"
      ]
    },
    {
      "cell_type": "code",
      "metadata": {
        "id": "LcGBIyPxoNL4"
      },
      "source": [
        "# choose the epoch giving the best performance on validation set, or last training epoch\n",
        "best = '' #'best_' or '' \n",
        "\n",
        "model_files = [\n",
        "    os.path.join('trained_networks', 'ripplenet_unidirectional_random_seed200.h5'.format(best)),\n",
        "    os.path.join('trained_networks', 'ripplenet_unidirectional_random_seed201.h5'.format(best)),\n",
        "    os.path.join('trained_networks', 'ripplenet_unidirectional_random_seed202.h5'.format(best)),\n",
        "    os.path.join('trained_networks', 'ripplenet_unidirectional_random_seed203.h5'.format(best)),\n",
        "    os.path.join('trained_networks', 'ripplenet_unidirectional_random_seed204.h5'.format(best)),\n",
        "    os.path.join('trained_networks', 'ripplenet_unidirectional_random_seed205.h5'.format(best)),\n",
        "    os.path.join('trained_networks', 'ripplenet_unidirectional_random_seed206.h5'.format(best)),\n",
        "    os.path.join('trained_networks', 'ripplenet_unidirectional_random_seed210.h5'.format(best)),\n",
        "    os.path.join('trained_networks', 'ripplenet_unidirectional_random_seed211.h5'.format(best)),\n",
        "    os.path.join('trained_networks', 'ripplenet_unidirectional_random_seed212.h5'.format(best)),\n",
        "    os.path.join('trained_networks', 'ripplenet_unidirectional_random_seed213.h5'.format(best)),\n",
        "    os.path.join('trained_networks', 'ripplenet_unidirectional_random_seed214.h5'.format(best)),\n",
        "    os.path.join('trained_networks', 'ripplenet_bidirectional_random_seed310.h5'.format(best)),\n",
        "    os.path.join('trained_networks', 'ripplenet_bidirectional_random_seed311.h5'.format(best)),\n",
        "    os.path.join('trained_networks', 'ripplenet_bidirectional_random_seed312.h5'.format(best)),\n",
        "    os.path.join('trained_networks', 'ripplenet_bidirectional_random_seed313.h5'.format(best)),\n",
        "    os.path.join('trained_networks', 'ripplenet_bidirectional_random_seed314.h5'.format(best)),\n",
        "    #os.path.join('trained_networks', 'ripplenet_unidirectional_random_seed396.h5'.format(best)),\n",
        "    os.path.join('trained_networks', 'ripplenet_unidirectional_random_seed397.h5'.format(best)),\n",
        "    os.path.join('trained_networks', 'ripplenet_unidirectional_random_seed398.h5'.format(best)),\n",
        "    os.path.join('trained_networks', 'ripplenet_unidirectional_random_seed399.h5'.format(best)),\n",
        "    os.path.join('trained_networks', 'ripplenet_unidirectional_random_seed400.h5'.format(best)),\n",
        "    os.path.join('trained_networks', 'ripplenet_unidirectional_random_seed401.h5'.format(best)),\n",
        "    os.path.join('trained_networks', 'ripplenet_unidirectional_random_seed402.h5'.format(best)),\n",
        "    os.path.join('trained_networks', 'ripplenet_unidirectional_random_seed403.h5'.format(best)),\n",
        "    os.path.join('trained_networks', 'ripplenet_unidirectional_random_seed404.h5'.format(best)),\n",
        "    os.path.join('trained_networks', 'ripplenet_unidirectional_random_seed405.h5'.format(best)),\n",
        "    os.path.join('trained_networks', 'ripplenet_unidirectional_random_seed406.h5'.format(best)),\n",
        "    os.path.join('trained_networks', 'ripplenet_unidirectional_random_seed407.h5'.format(best)),\n",
        "    os.path.join('trained_networks', 'ripplenet_unidirectional_random_seed408.h5'.format(best)),\n",
        "    os.path.join('trained_networks', 'ripplenet_unidirectional_random_seed409.h5'.format(best)),\n",
        "    os.path.join('trained_networks', 'ripplenet_unidirectional_random_seed410.h5'.format(best)),\n",
        "    os.path.join('trained_networks', 'ripplenet_bidirectional_random_seed496.h5'.format(best)),\n",
        "    os.path.join('trained_networks', 'ripplenet_bidirectional_random_seed497.h5'.format(best)),\n",
        "    os.path.join('trained_networks', 'ripplenet_bidirectional_random_seed498.h5'.format(best)),\n",
        "    os.path.join('trained_networks', 'ripplenet_bidirectional_random_seed499.h5'.format(best)),\n",
        "    os.path.join('trained_networks', 'ripplenet_bidirectional_random_seed500.h5'.format(best)),\n",
        "    os.path.join('trained_networks', 'ripplenet_bidirectional_random_seed501.h5'.format(best)),\n",
        "    os.path.join('trained_networks', 'ripplenet_bidirectional_random_seed502.h5'.format(best)),\n",
        "    os.path.join('trained_networks', 'ripplenet_bidirectional_random_seed503.h5'.format(best)),\n",
        "    os.path.join('trained_networks', 'ripplenet_bidirectional_random_seed504.h5'.format(best)),\n",
        "    os.path.join('trained_networks', 'ripplenet_bidirectional_random_seed505.h5'.format(best)),\n",
        "    os.path.join('trained_networks', 'ripplenet_bidirectional_random_seed506.h5'.format(best)),\n",
        "    os.path.join('trained_networks', 'ripplenet_bidirectional_random_seed507.h5'.format(best)),\n",
        "    os.path.join('trained_networks', 'ripplenet_bidirectional_random_seed508.h5'.format(best)),\n",
        "    os.path.join('trained_networks', 'ripplenet_bidirectional_random_seed509.h5'.format(best)),\n",
        "    \n",
        "]\n",
        "losses_files = [\n",
        "    os.path.join('trained_networks', 'ripplenet_unidirectional_history_random_seed200.pkl'),\n",
        "    os.path.join('trained_networks', 'ripplenet_unidirectional_history_random_seed201.pkl'),\n",
        "    os.path.join('trained_networks', 'ripplenet_unidirectional_history_random_seed202.pkl'),\n",
        "    os.path.join('trained_networks', 'ripplenet_unidirectional_history_random_seed203.pkl'),\n",
        "    os.path.join('trained_networks', 'ripplenet_unidirectional_history_random_seed204.pkl'),\n",
        "    os.path.join('trained_networks', 'ripplenet_unidirectional_history_random_seed205.pkl'),\n",
        "    os.path.join('trained_networks', 'ripplenet_unidirectional_history_random_seed206.pkl'),\n",
        "    os.path.join('trained_networks', 'ripplenet_unidirectional_history_random_seed210.pkl'),\n",
        "    os.path.join('trained_networks', 'ripplenet_unidirectional_history_random_seed211.pkl'),\n",
        "    os.path.join('trained_networks', 'ripplenet_unidirectional_history_random_seed212.pkl'),\n",
        "    os.path.join('trained_networks', 'ripplenet_unidirectional_history_random_seed213.pkl'),\n",
        "    os.path.join('trained_networks', 'ripplenet_unidirectional_history_random_seed214.pkl'),\n",
        "    os.path.join('trained_networks', 'ripplenet_bidirectional_history_random_seed310.pkl'),\n",
        "    os.path.join('trained_networks', 'ripplenet_bidirectional_history_random_seed311.pkl'),\n",
        "    os.path.join('trained_networks', 'ripplenet_bidirectional_history_random_seed312.pkl'),\n",
        "    os.path.join('trained_networks', 'ripplenet_bidirectional_history_random_seed313.pkl'),\n",
        "    os.path.join('trained_networks', 'ripplenet_bidirectional_history_random_seed314.pkl'),\n",
        "    #os.path.join('trained_networks', 'ripplenet_unidirectional_history_random_seed396.pkl'),\n",
        "    os.path.join('trained_networks', 'ripplenet_unidirectional_history_random_seed397.pkl'),\n",
        "    os.path.join('trained_networks', 'ripplenet_unidirectional_history_random_seed398.pkl'),\n",
        "    os.path.join('trained_networks', 'ripplenet_unidirectional_history_random_seed399.pkl'),\n",
        "    os.path.join('trained_networks', 'ripplenet_unidirectional_history_random_seed400.pkl'),\n",
        "    os.path.join('trained_networks', 'ripplenet_unidirectional_history_random_seed401.pkl'),\n",
        "    os.path.join('trained_networks', 'ripplenet_unidirectional_history_random_seed402.pkl'),\n",
        "    os.path.join('trained_networks', 'ripplenet_unidirectional_history_random_seed403.pkl'),\n",
        "    os.path.join('trained_networks', 'ripplenet_unidirectional_history_random_seed404.pkl'),\n",
        "    os.path.join('trained_networks', 'ripplenet_unidirectional_history_random_seed405.pkl'),\n",
        "    os.path.join('trained_networks', 'ripplenet_unidirectional_history_random_seed406.pkl'),\n",
        "    os.path.join('trained_networks', 'ripplenet_unidirectional_history_random_seed407.pkl'),\n",
        "    os.path.join('trained_networks', 'ripplenet_unidirectional_history_random_seed408.pkl'),\n",
        "    os.path.join('trained_networks', 'ripplenet_unidirectional_history_random_seed409.pkl'),\n",
        "    os.path.join('trained_networks', 'ripplenet_unidirectional_history_random_seed410.pkl'),\n",
        "    os.path.join('trained_networks', 'ripplenet_bidirectional_history_random_seed496.pkl'),\n",
        "    os.path.join('trained_networks', 'ripplenet_bidirectional_history_random_seed497.pkl'),\n",
        "    os.path.join('trained_networks', 'ripplenet_bidirectional_history_random_seed498.pkl'),\n",
        "    os.path.join('trained_networks', 'ripplenet_bidirectional_history_random_seed499.pkl'),\n",
        "    os.path.join('trained_networks', 'ripplenet_bidirectional_history_random_seed500.pkl'),\n",
        "    os.path.join('trained_networks', 'ripplenet_bidirectional_history_random_seed501.pkl'),\n",
        "    os.path.join('trained_networks', 'ripplenet_bidirectional_history_random_seed502.pkl'),\n",
        "    os.path.join('trained_networks', 'ripplenet_bidirectional_history_random_seed503.pkl'),\n",
        "    os.path.join('trained_networks', 'ripplenet_bidirectional_history_random_seed504.pkl'),\n",
        "    os.path.join('trained_networks', 'ripplenet_bidirectional_history_random_seed505.pkl'),\n",
        "    os.path.join('trained_networks', 'ripplenet_bidirectional_history_random_seed506.pkl'),\n",
        "    os.path.join('trained_networks', 'ripplenet_bidirectional_history_random_seed507.pkl'),\n",
        "    os.path.join('trained_networks', 'ripplenet_bidirectional_history_random_seed508.pkl'),\n",
        "    os.path.join('trained_networks', 'ripplenet_bidirectional_history_random_seed509.pkl'),\n",
        "    \n",
        "]"
      ],
      "execution_count": 29,
      "outputs": []
    },
    {
      "cell_type": "code",
      "metadata": {
        "colab": {
          "base_uri": "https://localhost:8080/"
        },
        "id": "78uQVeqLQpUs",
        "outputId": "62951dca-024c-44bf-8b21-8852c14e3548"
      },
      "source": [
        "model_files, losses_files"
      ],
      "execution_count": 30,
      "outputs": [
        {
          "output_type": "execute_result",
          "data": {
            "text/plain": [
              "(['trained_networks/ripplenet_unidirectional_random_seed200.h5',\n",
              "  'trained_networks/ripplenet_unidirectional_random_seed201.h5',\n",
              "  'trained_networks/ripplenet_unidirectional_random_seed202.h5',\n",
              "  'trained_networks/ripplenet_unidirectional_random_seed203.h5',\n",
              "  'trained_networks/ripplenet_unidirectional_random_seed204.h5',\n",
              "  'trained_networks/ripplenet_unidirectional_random_seed205.h5',\n",
              "  'trained_networks/ripplenet_unidirectional_random_seed206.h5',\n",
              "  'trained_networks/ripplenet_unidirectional_random_seed210.h5',\n",
              "  'trained_networks/ripplenet_unidirectional_random_seed211.h5',\n",
              "  'trained_networks/ripplenet_unidirectional_random_seed212.h5',\n",
              "  'trained_networks/ripplenet_unidirectional_random_seed213.h5',\n",
              "  'trained_networks/ripplenet_unidirectional_random_seed214.h5',\n",
              "  'trained_networks/ripplenet_bidirectional_random_seed310.h5',\n",
              "  'trained_networks/ripplenet_bidirectional_random_seed311.h5',\n",
              "  'trained_networks/ripplenet_bidirectional_random_seed312.h5',\n",
              "  'trained_networks/ripplenet_bidirectional_random_seed313.h5',\n",
              "  'trained_networks/ripplenet_bidirectional_random_seed314.h5',\n",
              "  'trained_networks/ripplenet_unidirectional_random_seed397.h5',\n",
              "  'trained_networks/ripplenet_unidirectional_random_seed398.h5',\n",
              "  'trained_networks/ripplenet_unidirectional_random_seed399.h5',\n",
              "  'trained_networks/ripplenet_unidirectional_random_seed400.h5',\n",
              "  'trained_networks/ripplenet_unidirectional_random_seed401.h5',\n",
              "  'trained_networks/ripplenet_unidirectional_random_seed402.h5',\n",
              "  'trained_networks/ripplenet_unidirectional_random_seed403.h5',\n",
              "  'trained_networks/ripplenet_unidirectional_random_seed404.h5',\n",
              "  'trained_networks/ripplenet_unidirectional_random_seed405.h5',\n",
              "  'trained_networks/ripplenet_unidirectional_random_seed406.h5',\n",
              "  'trained_networks/ripplenet_unidirectional_random_seed407.h5',\n",
              "  'trained_networks/ripplenet_unidirectional_random_seed408.h5',\n",
              "  'trained_networks/ripplenet_unidirectional_random_seed409.h5',\n",
              "  'trained_networks/ripplenet_unidirectional_random_seed410.h5',\n",
              "  'trained_networks/ripplenet_bidirectional_random_seed496.h5',\n",
              "  'trained_networks/ripplenet_bidirectional_random_seed497.h5',\n",
              "  'trained_networks/ripplenet_bidirectional_random_seed498.h5',\n",
              "  'trained_networks/ripplenet_bidirectional_random_seed499.h5',\n",
              "  'trained_networks/ripplenet_bidirectional_random_seed500.h5',\n",
              "  'trained_networks/ripplenet_bidirectional_random_seed501.h5',\n",
              "  'trained_networks/ripplenet_bidirectional_random_seed502.h5',\n",
              "  'trained_networks/ripplenet_bidirectional_random_seed503.h5',\n",
              "  'trained_networks/ripplenet_bidirectional_random_seed504.h5',\n",
              "  'trained_networks/ripplenet_bidirectional_random_seed505.h5',\n",
              "  'trained_networks/ripplenet_bidirectional_random_seed506.h5',\n",
              "  'trained_networks/ripplenet_bidirectional_random_seed507.h5',\n",
              "  'trained_networks/ripplenet_bidirectional_random_seed508.h5',\n",
              "  'trained_networks/ripplenet_bidirectional_random_seed509.h5'],\n",
              " ['trained_networks/ripplenet_unidirectional_history_random_seed200.pkl',\n",
              "  'trained_networks/ripplenet_unidirectional_history_random_seed201.pkl',\n",
              "  'trained_networks/ripplenet_unidirectional_history_random_seed202.pkl',\n",
              "  'trained_networks/ripplenet_unidirectional_history_random_seed203.pkl',\n",
              "  'trained_networks/ripplenet_unidirectional_history_random_seed204.pkl',\n",
              "  'trained_networks/ripplenet_unidirectional_history_random_seed205.pkl',\n",
              "  'trained_networks/ripplenet_unidirectional_history_random_seed206.pkl',\n",
              "  'trained_networks/ripplenet_unidirectional_history_random_seed210.pkl',\n",
              "  'trained_networks/ripplenet_unidirectional_history_random_seed211.pkl',\n",
              "  'trained_networks/ripplenet_unidirectional_history_random_seed212.pkl',\n",
              "  'trained_networks/ripplenet_unidirectional_history_random_seed213.pkl',\n",
              "  'trained_networks/ripplenet_unidirectional_history_random_seed214.pkl',\n",
              "  'trained_networks/ripplenet_bidirectional_history_random_seed310.pkl',\n",
              "  'trained_networks/ripplenet_bidirectional_history_random_seed311.pkl',\n",
              "  'trained_networks/ripplenet_bidirectional_history_random_seed312.pkl',\n",
              "  'trained_networks/ripplenet_bidirectional_history_random_seed313.pkl',\n",
              "  'trained_networks/ripplenet_bidirectional_history_random_seed314.pkl',\n",
              "  'trained_networks/ripplenet_unidirectional_history_random_seed397.pkl',\n",
              "  'trained_networks/ripplenet_unidirectional_history_random_seed398.pkl',\n",
              "  'trained_networks/ripplenet_unidirectional_history_random_seed399.pkl',\n",
              "  'trained_networks/ripplenet_unidirectional_history_random_seed400.pkl',\n",
              "  'trained_networks/ripplenet_unidirectional_history_random_seed401.pkl',\n",
              "  'trained_networks/ripplenet_unidirectional_history_random_seed402.pkl',\n",
              "  'trained_networks/ripplenet_unidirectional_history_random_seed403.pkl',\n",
              "  'trained_networks/ripplenet_unidirectional_history_random_seed404.pkl',\n",
              "  'trained_networks/ripplenet_unidirectional_history_random_seed405.pkl',\n",
              "  'trained_networks/ripplenet_unidirectional_history_random_seed406.pkl',\n",
              "  'trained_networks/ripplenet_unidirectional_history_random_seed407.pkl',\n",
              "  'trained_networks/ripplenet_unidirectional_history_random_seed408.pkl',\n",
              "  'trained_networks/ripplenet_unidirectional_history_random_seed409.pkl',\n",
              "  'trained_networks/ripplenet_unidirectional_history_random_seed410.pkl',\n",
              "  'trained_networks/ripplenet_bidirectional_history_random_seed496.pkl',\n",
              "  'trained_networks/ripplenet_bidirectional_history_random_seed497.pkl',\n",
              "  'trained_networks/ripplenet_bidirectional_history_random_seed498.pkl',\n",
              "  'trained_networks/ripplenet_bidirectional_history_random_seed499.pkl',\n",
              "  'trained_networks/ripplenet_bidirectional_history_random_seed500.pkl',\n",
              "  'trained_networks/ripplenet_bidirectional_history_random_seed501.pkl',\n",
              "  'trained_networks/ripplenet_bidirectional_history_random_seed502.pkl',\n",
              "  'trained_networks/ripplenet_bidirectional_history_random_seed503.pkl',\n",
              "  'trained_networks/ripplenet_bidirectional_history_random_seed504.pkl',\n",
              "  'trained_networks/ripplenet_bidirectional_history_random_seed505.pkl',\n",
              "  'trained_networks/ripplenet_bidirectional_history_random_seed506.pkl',\n",
              "  'trained_networks/ripplenet_bidirectional_history_random_seed507.pkl',\n",
              "  'trained_networks/ripplenet_bidirectional_history_random_seed508.pkl',\n",
              "  'trained_networks/ripplenet_bidirectional_history_random_seed509.pkl'])"
            ]
          },
          "metadata": {
            "tags": []
          },
          "execution_count": 30
        }
      ]
    },
    {
      "cell_type": "code",
      "metadata": {
        "id": "y-jndgIkQtg9"
      },
      "source": [
        "# fill up models and losses containers\n",
        "models = []\n",
        "losses = []\n",
        "for i, (mf, pf) in enumerate(zip(model_files, losses_files)):\n",
        "    models.append(keras.models.load_model(mf))\n",
        "    with open(pf, 'rb') as f:\n",
        "        losses.append(pickle.load(f))"
      ],
      "execution_count": 31,
      "outputs": []
    },
    {
      "cell_type": "markdown",
      "metadata": {
        "id": "N0ANZ6UM-tZS"
      },
      "source": [
        "## load a session time series"
      ]
    },
    {
      "cell_type": "code",
      "metadata": {
        "id": "K2WDLAwA-tZT"
      },
      "source": [
        "# some needed parameters\n",
        "Fs = 1250 # Hz, sampling freq\n",
        "\n",
        "# width of boxcar around each labeled event\n",
        "y_label_width = int(50 * Fs / 1000) # 50 ms @ Fs"
      ],
      "execution_count": 32,
      "outputs": []
    },
    {
      "cell_type": "code",
      "metadata": {
        "id": "1hSPvLCyXSZm"
      },
      "source": [
        "# default settings for detecting event from predictions\n",
        "threshold = 0.5\n",
        "distance = int(50 * Fs / 1000) # ms @ Fs, peak interdistance\n",
        "width = int(20 * Fs / 1000) # ms @ Fs, peak width"
      ],
      "execution_count": 33,
      "outputs": []
    },
    {
      "cell_type": "code",
      "metadata": {
        "id": "r4AJEVw7-tZW"
      },
      "source": [
        "# open file with complete time series\n",
        "session = 'm4029_session1'  # holdout dataset\n",
        "f = h5py.File(os.path.join('data', '{}.h5'.format(session)), 'r')"
      ],
      "execution_count": 34,
      "outputs": []
    },
    {
      "cell_type": "code",
      "metadata": {
        "colab": {
          "base_uri": "https://localhost:8080/"
        },
        "id": "SSz-qk5h-tZZ",
        "outputId": "d52d4bb5-198c-4ba5-fe35-ab442c1e1074"
      },
      "source": [
        "# list sessions:\n",
        "list(f.items())"
      ],
      "execution_count": 35,
      "outputs": [
        {
          "output_type": "execute_result",
          "data": {
            "text/plain": [
              "[('m4029_session1', <HDF5 group \"/m4029_session1\" (7 members)>)]"
            ]
          },
          "metadata": {
            "tags": []
          },
          "execution_count": 35
        }
      ]
    },
    {
      "cell_type": "code",
      "metadata": {
        "colab": {
          "base_uri": "https://localhost:8080/"
        },
        "id": "_Ouvb4hQ-tZd",
        "outputId": "369e917e-0e9f-401d-9b84-660132ac6729"
      },
      "source": [
        "list(f[session].items())"
      ],
      "execution_count": 36,
      "outputs": [
        {
          "output_type": "execute_result",
          "data": {
            "text/plain": [
              "[('S', <HDF5 dataset \"S\": shape (753914, 16), type \"<f8\">),\n",
              " ('S_freqs', <HDF5 dataset \"S_freqs\": shape (16,), type \"<f8\">),\n",
              " ('X1', <HDF5 dataset \"X1\": shape (753914,), type \"<f8\">),\n",
              " ('lfp', <HDF5 dataset \"lfp\": shape (753914,), type \"<f8\">),\n",
              " ('rippleLocs', <HDF5 dataset \"rippleLocs\": shape (86,), type \"<i4\">),\n",
              " ('run_speed', <HDF5 dataset \"run_speed\": shape (753914,), type \"<i4\">),\n",
              " ('y', <HDF5 dataset \"y\": shape (753914,), type \"<f8\">)]"
            ]
          },
          "metadata": {
            "tags": []
          },
          "execution_count": 36
        }
      ]
    },
    {
      "cell_type": "markdown",
      "metadata": {
        "id": "SKy_kaMgpKn1"
      },
      "source": [
        "## Run prediction on entire dataset"
      ]
    },
    {
      "cell_type": "code",
      "metadata": {
        "id": "zbWKRT8X-tZ1"
      },
      "source": [
        "# load data (cont. LFP and ripple locations for plotting)\n",
        "X0_cont = np.expand_dims(np.expand_dims(f[session]['lfp'][:], 0), -1) # input must have shape (n_samples, n_timesteps, 1)\n",
        "rippleLocs = f[session]['rippleLocs'][:]\n",
        "S_freqs = f[session]['S_freqs'][:]\n",
        "\n"
      ],
      "execution_count": 37,
      "outputs": []
    },
    {
      "cell_type": "code",
      "metadata": {
        "id": "eFvrUPPWrpQg"
      },
      "source": [
        "# imshow color limits\n",
        "vmin, vmax = np.exp(np.percentile(np.log(f[session]['S'][:Fs*30, :].flatten()), [1, 99]))"
      ],
      "execution_count": 38,
      "outputs": []
    },
    {
      "cell_type": "code",
      "metadata": {
        "id": "Ab_69IYn1O7Z"
      },
      "source": [
        "# Switch or reshaping input into segments, or running on full time series\n",
        "if False:\n",
        "    # Predict using entire dataset at once (not recommended)\n",
        "    Y_cont_preds = []\n",
        "    for model in models:\n",
        "        Y_cont_preds.append(model.predict(X0_cont))\n",
        "else:\n",
        "    # Reshape time axis to segments of some duration\n",
        "    segment_length = int(1 * Fs) # Fs\n",
        "    time_segment_length = segment_length / Fs\n",
        "    #segment_length = int(1 * Fs) # Fs\n",
        "\n",
        "    # run predictions n times with shifts of length segment_length / n,\n",
        "    # then final output will be averaged\n",
        "\n",
        "    n = 10 # nicely divisible with Fs=1250\n",
        "    shift = int(segment_length / n)\n",
        "    \n",
        "    Y_cont_preds = []\n",
        "\n",
        "    for model in models:\n",
        "      \n",
        "      container = []\n",
        "\n",
        "      for i in range(n):\n",
        "          X0_cont_padded = np.concatenate((np.zeros((1, i * shift, 1)), X0_cont), axis=1)\n",
        "\n",
        "          # pad with zeros \n",
        "          X0_cont_padded = np.concatenate((X0_cont_padded, \n",
        "                                          np.zeros((1, segment_length - \n",
        "                                                    (X0_cont_padded.size % segment_length), 1))), \n",
        "                                          axis=1)\n",
        "          \n",
        "          # reshape into segments of length  \n",
        "          X0_cont_padded = X0_cont_padded.reshape((-1, segment_length, 1))\n",
        "\n",
        "          # run prediction on data\n",
        "          \n",
        "          Y_cont_pred = model.predict(X0_cont_padded)\n",
        "\n",
        "          # Reshape to zero-padded size\n",
        "          Y_cont_pred = Y_cont_pred.reshape((1, -1, 1))[:, :X0_cont_padded.size, :]\n",
        "\n",
        "          # strip elements that were padded with zeros\n",
        "          container.append(Y_cont_pred[:, i * shift:i * shift + X0_cont.size, :])\n",
        "\n",
        "      # average or median    \n",
        "      Y_cont_pred = np.median(container, axis=0)\n",
        "      Y_cont_preds.append(Y_cont_pred)\n",
        "\n",
        "      # remove intermediate predictions\n",
        "      del container\n",
        "    \n",
        "     \n",
        "print(Y_cont_preds)"
      ],
      "execution_count": null,
      "outputs": []
    },
    {
      "cell_type": "code",
      "metadata": {
        "id": "gLPTjRmoIlFi"
      },
      "source": [
        "np.savez('y_pred_ and_their_data.npz', Y_cont_preds = Y_cont_preds, X0_cont = X0_cont, rippleLocs = rippleLocs)"
      ],
      "execution_count": null,
      "outputs": []
    },
    {
      "cell_type": "code",
      "metadata": {
        "colab": {
          "base_uri": "https://localhost:8080/"
        },
        "id": "8rmukTAXLmQ5",
        "outputId": "0f73a458-fdf2-439d-b7ab-fcccf64f9ca6"
      },
      "source": [
        "print(Y_cont_preds[0])"
      ],
      "execution_count": null,
      "outputs": [
        {
          "output_type": "stream",
          "text": [
            "[[[0.00729574]\n",
            "  [0.00778747]\n",
            "  [0.00972895]\n",
            "  ...\n",
            "  [0.00325629]\n",
            "  [0.00246593]\n",
            "  [0.00274175]]]\n"
          ],
          "name": "stdout"
        }
      ]
    },
    {
      "cell_type": "code",
      "metadata": {
        "id": "OXIfrbnooEKQ"
      },
      "source": [
        "df = pd.DataFrame(columns=['TP', 'FP', 'FN', 'FP+FN', 'F_1'], \n",
        "                  dtype='object')\n",
        "\n",
        "for Y_cont_pred in Y_cont_preds:\n",
        "\n",
        "  # compare ground truth times vs. predicted times\n",
        "  peaks, _ = ss.find_peaks(Y_cont_pred[0, :, 0], height=threshold, distance=distance, width=width)\n",
        "\n",
        "  # remove ripple locations in movement periods (within 0.5s of movement event)\n",
        "  if 'run_speed' in list(f[session].keys()):\n",
        "      # smoothen run_speed by 1s boxcar filter:\n",
        "      run_speed = np.convolve(f[session]['run_speed'], ss.boxcar(Fs) / Fs, 'same')\n",
        "      # keep ripples where run_speed == 0:\n",
        "      peaks = peaks[run_speed[peaks] == 0]\n",
        "  else:\n",
        "      run_speed = None\n",
        "      \n",
        "  #get stats\n",
        "  TPs, FPs, FNs, stats = get_TPs_FPs_FNs_stats(f[session]['y'][:].flatten(), \n",
        "                                             Y_cont_pred.flatten(), \n",
        "                                             f[session]['rippleLocs'][:], \n",
        "                                             threshold, distance, width,\n",
        "                                             run_speed=run_speed,\n",
        "                                             y_label_width=y_label_width) \n",
        "   \n",
        "  df = pd.concat([df, stats], axis=0, ignore_index=True)\n",
        "\n",
        "\n",
        "#next step is to add a column of the network names\n",
        "network_length = [210]\n",
        "#network_length = [210, 211, 212, 213, 214, 310, 311, 312, 313, 314, 400, 401, 402, 403, 404, 405, 406, 407, 408, 409, 410, 500, 501, 502, 503, 504, 505, 506, 507, 508, 509]\n",
        "df.insert(loc=0, column='random_seeds', value=network_length)\n",
        "df[\"TP %\"] = df['TP'] / (df['TP'] + df['FP'] + df['FN'])\n",
        "df[\"FP %\"] = df['FP'] / (df['TP'] + df['FP'] + df['FN'])\n",
        "df[\"FN %\"] = df['FN'] / (df['TP'] + df['FP'] + df['FN'])\n",
        "  "
      ],
      "execution_count": null,
      "outputs": []
    },
    {
      "cell_type": "code",
      "metadata": {
        "colab": {
          "base_uri": "https://localhost:8080/",
          "height": 80
        },
        "id": "irRkvLxGqRtK",
        "outputId": "f9899e65-9980-45d1-a764-5867b5cd2651"
      },
      "source": [
        "df\n",
        "df.to_csv('networkstats.csv')\n",
        "df.to_csv('gdrive/My\\ Drive/RippleNet/networkstats.csv')\n"
      ],
      "execution_count": null,
      "outputs": [
        {
          "output_type": "execute_result",
          "data": {
            "text/html": [
              "<div>\n",
              "<style scoped>\n",
              "    .dataframe tbody tr th:only-of-type {\n",
              "        vertical-align: middle;\n",
              "    }\n",
              "\n",
              "    .dataframe tbody tr th {\n",
              "        vertical-align: top;\n",
              "    }\n",
              "\n",
              "    .dataframe thead th {\n",
              "        text-align: right;\n",
              "    }\n",
              "</style>\n",
              "<table border=\"1\" class=\"dataframe\">\n",
              "  <thead>\n",
              "    <tr style=\"text-align: right;\">\n",
              "      <th></th>\n",
              "      <th>random_seeds</th>\n",
              "      <th>TP</th>\n",
              "      <th>FP</th>\n",
              "      <th>FN</th>\n",
              "      <th>FP+FN</th>\n",
              "      <th>F_1</th>\n",
              "      <th>precision</th>\n",
              "      <th>recall</th>\n",
              "      <th>TP %</th>\n",
              "      <th>FP %</th>\n",
              "    </tr>\n",
              "  </thead>\n",
              "  <tbody>\n",
              "    <tr>\n",
              "      <th>0</th>\n",
              "      <td>210</td>\n",
              "      <td>68</td>\n",
              "      <td>67</td>\n",
              "      <td>18</td>\n",
              "      <td>85</td>\n",
              "      <td>0.615</td>\n",
              "      <td>0.504</td>\n",
              "      <td>0.791</td>\n",
              "      <td>0.444444</td>\n",
              "      <td>0.437908</td>\n",
              "    </tr>\n",
              "  </tbody>\n",
              "</table>\n",
              "</div>"
            ],
            "text/plain": [
              "   random_seeds  TP  FP  FN FP+FN    F_1  precision  recall      TP %      FP %\n",
              "0           210  68  67  18    85  0.615      0.504   0.791  0.444444  0.437908"
            ]
          },
          "metadata": {
            "tags": []
          },
          "execution_count": 42
        }
      ]
    },
    {
      "cell_type": "code",
      "metadata": {
        "colab": {
          "base_uri": "https://localhost:8080/",
          "height": 298
        },
        "id": "1ZXV1P3COyR_",
        "outputId": "893913ad-6e5f-46fd-8370-cd13863296f2"
      },
      "source": [
        "#ax = plt.gca()\n",
        "\n",
        "fig, axes = plt.subplots(nrows=2, ncols=2)\n",
        "\n",
        "df.iloc[0:5].plot(x='random_seeds',y='precision', label = 'precision', ax=axes[0,0], legend = False)\n",
        "df.iloc[0:5].plot(x='random_seeds',y='recall', label = 'recall', color='red', ax=axes[0,0], legend = False)\n",
        "\n",
        "\n",
        "df.iloc[5:10].plot(x='random_seeds',y='precision', label = 'precision', ax=axes[0,1])\n",
        "df.iloc[5:10].plot(x='random_seeds',y='recall', label = 'recall', color='red', ax=axes[0,1])\n",
        "\n",
        "\n",
        "df.iloc[10:21].plot(x='random_seeds',y='precision', label = 'precision', ax=axes[1,0], legend = False)\n",
        "df.iloc[10:21].plot(x='random_seeds',y='recall', label = 'recall', color='red', ax=axes[1,0], legend = False)\n",
        "\n",
        "\n",
        "df.iloc[21:31].plot(x='random_seeds',y='precision', label = 'precision', ax=axes[1,1], legend = False)\n",
        "df.iloc[21:31].plot(x='random_seeds',y='recall', label = 'recall', color='red', ax=axes[1,1], legend = False)\n",
        "\n",
        "axes[0,0].set_ylabel('p/r scores')\n",
        "axes[0,1].set_ylabel('')\n",
        "axes[1,0].set_ylabel('p/r scores')\n",
        "axes[1,1].set_ylabel('')\n",
        "\n",
        "axes[0,0].set_xlim([209,215])\n",
        "axes[0,0].set_ylim([-0.1,1.1])\n",
        "axes[0,1].set_xlim([309,315])\n",
        "axes[0,1].set_ylim([-0.1,1.1])\n",
        "axes[1,0].set_xlim([399, 411])\n",
        "axes[1,0].set_ylim([-0.1,1.1])\n",
        "axes[1,1].set_xlim([499, 511])\n",
        "axes[1,1].set_ylim([-0.1,1.1])\n",
        "\n",
        "fig.suptitle('p/r scores for all random seeds')\n",
        "\n",
        "fig.tight_layout()\n",
        "fig.subplots_adjust(top=0.88)\n",
        "axes[0,1].legend(bbox_to_anchor=(1.04,0.3), loc='lower left')\n",
        "plt.savefig(os.path.join('figures', 'precision_recall_plot.png'), bbox_inches=\"tight\")"
      ],
      "execution_count": null,
      "outputs": [
        {
          "output_type": "display_data",
          "data": {
            "image/png": "[encoded data removed]",
            "text/plain": [
              "<Figure size 432x288 with 4 Axes>"
            ]
          },
          "metadata": {
            "tags": [],
            "needs_background": "light"
          }
        }
      ]
    },
    {
      "cell_type": "code",
      "metadata": {
        "colab": {
          "base_uri": "https://localhost:8080/",
          "height": 633
        },
        "id": "MLHG7zK4VC3A",
        "outputId": "984893c4-efc6-49a4-c08b-5d5ac2764867"
      },
      "source": [
        "fig, axes = plt.subplots(nrows=2, ncols=2)\n",
        "\n",
        "df.iloc[0:5].plot(x='random_seeds',y='TP', label = 'TP', ax=axes[0,0], legend = False)\n",
        "df.iloc[0:5].plot(x='random_seeds',y='FP', label = 'FP', color='red', ax=axes[0,0], legend = False)\n",
        "plt.ylabel('p/r scores')\n",
        "\n",
        "df.iloc[5:10].plot(x='random_seeds',y='TP', label = 'TP', ax=axes[0,1])\n",
        "df.iloc[5:10].plot(x='random_seeds',y='FP', label = 'FP', color='red', ax=axes[0,1])\n",
        "plt.ylabel('p/r scores')\n",
        "\n",
        "df.iloc[10:21].plot(x='random_seeds',y='TP', label = 'TP', ax=axes[1,0], legend = False)\n",
        "df.iloc[10:21].plot(x='random_seeds',y='FP', label = 'FP', color='red', ax=axes[1,0], legend = False)\n",
        "plt.ylabel('p/r scores')\n",
        "\n",
        "df.iloc[21:31].plot(x='random_seeds',y='TP', label = 'TP', ax=axes[1,1], legend = False)\n",
        "df.iloc[21:31].plot(x='random_seeds',y='FP', label = 'FP', color='red', ax=axes[1,1], legend = False)\n",
        "\n",
        "axes[0,0].set_ylabel('TP/FP')\n",
        "axes[0,1].set_ylabel('')\n",
        "axes[1,0].set_ylabel('TP/FP')\n",
        "axes[1,1].set_ylabel('')\n",
        "\n",
        "axes[0,0].set_xlim([209,215])\n",
        "axes[0,0].set_ylim([10,80])\n",
        "axes[0,1].set_xlim([309,315])\n",
        "axes[0,1].set_ylim([-6, 145])\n",
        "axes[1,0].set_xlim([399, 411])\n",
        "axes[1,0].set_ylim([48,126])\n",
        "axes[1,1].set_xlim([499, 511])\n",
        "axes[1,1].set_ylim([0, 230])\n",
        "\n",
        "fig.suptitle('TP/FP for all random seeds')\n",
        "\n",
        "fig.tight_layout()\n",
        "fig.subplots_adjust(top=0.88)\n",
        "\n",
        "axes[0,1].legend(bbox_to_anchor=(1.04,0.3), loc='lower left')\n",
        "plt.savefig(os.path.join('figures', 'TP_FP.png'), bbox_inches=\"tight\")"
      ],
      "execution_count": null,
      "outputs": [
        {
          "output_type": "error",
          "ename": "TypeError",
          "evalue": "ignored",
          "traceback": [
            "\u001b[0;31m---------------------------------------------------------------------------\u001b[0m",
            "\u001b[0;31mTypeError\u001b[0m                                 Traceback (most recent call last)",
            "\u001b[0;32m<ipython-input-44-f14dd2e84647>\u001b[0m in \u001b[0;36m<module>\u001b[0;34m()\u001b[0m\n\u001b[1;32m      5\u001b[0m \u001b[0mplt\u001b[0m\u001b[0;34m.\u001b[0m\u001b[0mylabel\u001b[0m\u001b[0;34m(\u001b[0m\u001b[0;34m'p/r scores'\u001b[0m\u001b[0;34m)\u001b[0m\u001b[0;34m\u001b[0m\u001b[0;34m\u001b[0m\u001b[0m\n\u001b[1;32m      6\u001b[0m \u001b[0;34m\u001b[0m\u001b[0m\n\u001b[0;32m----> 7\u001b[0;31m \u001b[0mdf\u001b[0m\u001b[0;34m.\u001b[0m\u001b[0miloc\u001b[0m\u001b[0;34m[\u001b[0m\u001b[0;36m5\u001b[0m\u001b[0;34m:\u001b[0m\u001b[0;36m10\u001b[0m\u001b[0;34m]\u001b[0m\u001b[0;34m.\u001b[0m\u001b[0mplot\u001b[0m\u001b[0;34m(\u001b[0m\u001b[0mx\u001b[0m\u001b[0;34m=\u001b[0m\u001b[0;34m'random_seeds'\u001b[0m\u001b[0;34m,\u001b[0m\u001b[0my\u001b[0m\u001b[0;34m=\u001b[0m\u001b[0;34m'TP'\u001b[0m\u001b[0;34m,\u001b[0m \u001b[0mlabel\u001b[0m \u001b[0;34m=\u001b[0m \u001b[0;34m'TP'\u001b[0m\u001b[0;34m,\u001b[0m \u001b[0max\u001b[0m\u001b[0;34m=\u001b[0m\u001b[0maxes\u001b[0m\u001b[0;34m[\u001b[0m\u001b[0;36m0\u001b[0m\u001b[0;34m,\u001b[0m\u001b[0;36m1\u001b[0m\u001b[0;34m]\u001b[0m\u001b[0;34m)\u001b[0m\u001b[0;34m\u001b[0m\u001b[0;34m\u001b[0m\u001b[0m\n\u001b[0m\u001b[1;32m      8\u001b[0m \u001b[0mdf\u001b[0m\u001b[0;34m.\u001b[0m\u001b[0miloc\u001b[0m\u001b[0;34m[\u001b[0m\u001b[0;36m5\u001b[0m\u001b[0;34m:\u001b[0m\u001b[0;36m10\u001b[0m\u001b[0;34m]\u001b[0m\u001b[0;34m.\u001b[0m\u001b[0mplot\u001b[0m\u001b[0;34m(\u001b[0m\u001b[0mx\u001b[0m\u001b[0;34m=\u001b[0m\u001b[0;34m'random_seeds'\u001b[0m\u001b[0;34m,\u001b[0m\u001b[0my\u001b[0m\u001b[0;34m=\u001b[0m\u001b[0;34m'FP'\u001b[0m\u001b[0;34m,\u001b[0m \u001b[0mlabel\u001b[0m \u001b[0;34m=\u001b[0m \u001b[0;34m'FP'\u001b[0m\u001b[0;34m,\u001b[0m \u001b[0mcolor\u001b[0m\u001b[0;34m=\u001b[0m\u001b[0;34m'red'\u001b[0m\u001b[0;34m,\u001b[0m \u001b[0max\u001b[0m\u001b[0;34m=\u001b[0m\u001b[0maxes\u001b[0m\u001b[0;34m[\u001b[0m\u001b[0;36m0\u001b[0m\u001b[0;34m,\u001b[0m\u001b[0;36m1\u001b[0m\u001b[0;34m]\u001b[0m\u001b[0;34m)\u001b[0m\u001b[0;34m\u001b[0m\u001b[0;34m\u001b[0m\u001b[0m\n\u001b[1;32m      9\u001b[0m \u001b[0mplt\u001b[0m\u001b[0;34m.\u001b[0m\u001b[0mylabel\u001b[0m\u001b[0;34m(\u001b[0m\u001b[0;34m'p/r scores'\u001b[0m\u001b[0;34m)\u001b[0m\u001b[0;34m\u001b[0m\u001b[0;34m\u001b[0m\u001b[0m\n",
            "\u001b[0;32m/usr/local/lib/python3.7/dist-packages/pandas/plotting/_core.py\u001b[0m in \u001b[0;36m__call__\u001b[0;34m(self, *args, **kwargs)\u001b[0m\n\u001b[1;32m    947\u001b[0m                     \u001b[0mdata\u001b[0m\u001b[0;34m.\u001b[0m\u001b[0mcolumns\u001b[0m \u001b[0;34m=\u001b[0m \u001b[0mlabel_name\u001b[0m\u001b[0;34m\u001b[0m\u001b[0;34m\u001b[0m\u001b[0m\n\u001b[1;32m    948\u001b[0m \u001b[0;34m\u001b[0m\u001b[0m\n\u001b[0;32m--> 949\u001b[0;31m         \u001b[0;32mreturn\u001b[0m \u001b[0mplot_backend\u001b[0m\u001b[0;34m.\u001b[0m\u001b[0mplot\u001b[0m\u001b[0;34m(\u001b[0m\u001b[0mdata\u001b[0m\u001b[0;34m,\u001b[0m \u001b[0mkind\u001b[0m\u001b[0;34m=\u001b[0m\u001b[0mkind\u001b[0m\u001b[0;34m,\u001b[0m \u001b[0;34m**\u001b[0m\u001b[0mkwargs\u001b[0m\u001b[0;34m)\u001b[0m\u001b[0;34m\u001b[0m\u001b[0;34m\u001b[0m\u001b[0m\n\u001b[0m\u001b[1;32m    950\u001b[0m \u001b[0;34m\u001b[0m\u001b[0m\n\u001b[1;32m    951\u001b[0m     \u001b[0m__call__\u001b[0m\u001b[0;34m.\u001b[0m\u001b[0m__doc__\u001b[0m \u001b[0;34m=\u001b[0m \u001b[0m__doc__\u001b[0m\u001b[0;34m\u001b[0m\u001b[0;34m\u001b[0m\u001b[0m\n",
            "\u001b[0;32m/usr/local/lib/python3.7/dist-packages/pandas/plotting/_matplotlib/__init__.py\u001b[0m in \u001b[0;36mplot\u001b[0;34m(data, kind, **kwargs)\u001b[0m\n\u001b[1;32m     59\u001b[0m             \u001b[0mkwargs\u001b[0m\u001b[0;34m[\u001b[0m\u001b[0;34m\"ax\"\u001b[0m\u001b[0;34m]\u001b[0m \u001b[0;34m=\u001b[0m \u001b[0mgetattr\u001b[0m\u001b[0;34m(\u001b[0m\u001b[0max\u001b[0m\u001b[0;34m,\u001b[0m \u001b[0;34m\"left_ax\"\u001b[0m\u001b[0;34m,\u001b[0m \u001b[0max\u001b[0m\u001b[0;34m)\u001b[0m\u001b[0;34m\u001b[0m\u001b[0;34m\u001b[0m\u001b[0m\n\u001b[1;32m     60\u001b[0m     \u001b[0mplot_obj\u001b[0m \u001b[0;34m=\u001b[0m \u001b[0mPLOT_CLASSES\u001b[0m\u001b[0;34m[\u001b[0m\u001b[0mkind\u001b[0m\u001b[0;34m]\u001b[0m\u001b[0;34m(\u001b[0m\u001b[0mdata\u001b[0m\u001b[0;34m,\u001b[0m \u001b[0;34m**\u001b[0m\u001b[0mkwargs\u001b[0m\u001b[0;34m)\u001b[0m\u001b[0;34m\u001b[0m\u001b[0;34m\u001b[0m\u001b[0m\n\u001b[0;32m---> 61\u001b[0;31m     \u001b[0mplot_obj\u001b[0m\u001b[0;34m.\u001b[0m\u001b[0mgenerate\u001b[0m\u001b[0;34m(\u001b[0m\u001b[0;34m)\u001b[0m\u001b[0;34m\u001b[0m\u001b[0;34m\u001b[0m\u001b[0m\n\u001b[0m\u001b[1;32m     62\u001b[0m     \u001b[0mplot_obj\u001b[0m\u001b[0;34m.\u001b[0m\u001b[0mdraw\u001b[0m\u001b[0;34m(\u001b[0m\u001b[0;34m)\u001b[0m\u001b[0;34m\u001b[0m\u001b[0;34m\u001b[0m\u001b[0m\n\u001b[1;32m     63\u001b[0m     \u001b[0;32mreturn\u001b[0m \u001b[0mplot_obj\u001b[0m\u001b[0;34m.\u001b[0m\u001b[0mresult\u001b[0m\u001b[0;34m\u001b[0m\u001b[0;34m\u001b[0m\u001b[0m\n",
            "\u001b[0;32m/usr/local/lib/python3.7/dist-packages/pandas/plotting/_matplotlib/core.py\u001b[0m in \u001b[0;36mgenerate\u001b[0;34m(self)\u001b[0m\n\u001b[1;32m    267\u001b[0m     \u001b[0;32mdef\u001b[0m \u001b[0mgenerate\u001b[0m\u001b[0;34m(\u001b[0m\u001b[0mself\u001b[0m\u001b[0;34m)\u001b[0m\u001b[0;34m:\u001b[0m\u001b[0;34m\u001b[0m\u001b[0;34m\u001b[0m\u001b[0m\n\u001b[1;32m    268\u001b[0m         \u001b[0mself\u001b[0m\u001b[0;34m.\u001b[0m\u001b[0m_args_adjust\u001b[0m\u001b[0;34m(\u001b[0m\u001b[0;34m)\u001b[0m\u001b[0;34m\u001b[0m\u001b[0;34m\u001b[0m\u001b[0m\n\u001b[0;32m--> 269\u001b[0;31m         \u001b[0mself\u001b[0m\u001b[0;34m.\u001b[0m\u001b[0m_compute_plot_data\u001b[0m\u001b[0;34m(\u001b[0m\u001b[0;34m)\u001b[0m\u001b[0;34m\u001b[0m\u001b[0;34m\u001b[0m\u001b[0m\n\u001b[0m\u001b[1;32m    270\u001b[0m         \u001b[0mself\u001b[0m\u001b[0;34m.\u001b[0m\u001b[0m_setup_subplots\u001b[0m\u001b[0;34m(\u001b[0m\u001b[0;34m)\u001b[0m\u001b[0;34m\u001b[0m\u001b[0;34m\u001b[0m\u001b[0m\n\u001b[1;32m    271\u001b[0m         \u001b[0mself\u001b[0m\u001b[0;34m.\u001b[0m\u001b[0m_make_plot\u001b[0m\u001b[0;34m(\u001b[0m\u001b[0;34m)\u001b[0m\u001b[0;34m\u001b[0m\u001b[0;34m\u001b[0m\u001b[0m\n",
            "\u001b[0;32m/usr/local/lib/python3.7/dist-packages/pandas/plotting/_matplotlib/core.py\u001b[0m in \u001b[0;36m_compute_plot_data\u001b[0;34m(self)\u001b[0m\n\u001b[1;32m    416\u001b[0m         \u001b[0;31m# no non-numeric frames or series allowed\u001b[0m\u001b[0;34m\u001b[0m\u001b[0;34m\u001b[0m\u001b[0;34m\u001b[0m\u001b[0m\n\u001b[1;32m    417\u001b[0m         \u001b[0;32mif\u001b[0m \u001b[0mis_empty\u001b[0m\u001b[0;34m:\u001b[0m\u001b[0;34m\u001b[0m\u001b[0;34m\u001b[0m\u001b[0m\n\u001b[0;32m--> 418\u001b[0;31m             \u001b[0;32mraise\u001b[0m \u001b[0mTypeError\u001b[0m\u001b[0;34m(\u001b[0m\u001b[0;34m\"no numeric data to plot\"\u001b[0m\u001b[0;34m)\u001b[0m\u001b[0;34m\u001b[0m\u001b[0;34m\u001b[0m\u001b[0m\n\u001b[0m\u001b[1;32m    419\u001b[0m \u001b[0;34m\u001b[0m\u001b[0m\n\u001b[1;32m    420\u001b[0m         \u001b[0;31m# GH25587: cast ExtensionArray of pandas (IntegerArray, etc.) to\u001b[0m\u001b[0;34m\u001b[0m\u001b[0;34m\u001b[0m\u001b[0;34m\u001b[0m\u001b[0m\n",
            "\u001b[0;31mTypeError\u001b[0m: no numeric data to plot"
          ]
        },
        {
          "output_type": "display_data",
          "data": {
            "image/png": "[encoded data removed]",
            "text/plain": [
              "<Figure size 432x288 with 4 Axes>"
            ]
          },
          "metadata": {
            "tags": [],
            "needs_background": "light"
          }
        }
      ]
    },
    {
      "cell_type": "code",
      "metadata": {
        "id": "501kQLo2kv89",
        "colab": {
          "base_uri": "https://localhost:8080/",
          "height": 80
        },
        "outputId": "69fb6342-9d27-4a17-b336-5454b123f30e"
      },
      "source": [
        "stats"
      ],
      "execution_count": null,
      "outputs": [
        {
          "output_type": "execute_result",
          "data": {
            "text/html": [
              "<div>\n",
              "<style scoped>\n",
              "    .dataframe tbody tr th:only-of-type {\n",
              "        vertical-align: middle;\n",
              "    }\n",
              "\n",
              "    .dataframe tbody tr th {\n",
              "        vertical-align: top;\n",
              "    }\n",
              "\n",
              "    .dataframe thead th {\n",
              "        text-align: right;\n",
              "    }\n",
              "</style>\n",
              "<table border=\"1\" class=\"dataframe\">\n",
              "  <thead>\n",
              "    <tr style=\"text-align: right;\">\n",
              "      <th></th>\n",
              "      <th>TP</th>\n",
              "      <th>FP</th>\n",
              "      <th>FN</th>\n",
              "      <th>FP+FN</th>\n",
              "      <th>precision</th>\n",
              "      <th>recall</th>\n",
              "      <th>F_1</th>\n",
              "    </tr>\n",
              "  </thead>\n",
              "  <tbody>\n",
              "    <tr>\n",
              "      <th>0</th>\n",
              "      <td>68</td>\n",
              "      <td>67</td>\n",
              "      <td>18</td>\n",
              "      <td>85</td>\n",
              "      <td>0.504</td>\n",
              "      <td>0.791</td>\n",
              "      <td>0.615</td>\n",
              "    </tr>\n",
              "  </tbody>\n",
              "</table>\n",
              "</div>"
            ],
            "text/plain": [
              "   TP  FP  FN  FP+FN  precision  recall    F_1\n",
              "0  68  67  18     85      0.504   0.791  0.615"
            ]
          },
          "metadata": {
            "tags": []
          },
          "execution_count": 45
        }
      ]
    },
    {
      "cell_type": "code",
      "metadata": {
        "id": "inlhH52xkv9C",
        "colab": {
          "base_uri": "https://localhost:8080/"
        },
        "outputId": "63b42ed4-dda1-4b9f-c0c9-79df7197456c"
      },
      "source": [
        "print(stats.to_latex(index=False))"
      ],
      "execution_count": null,
      "outputs": [
        {
          "output_type": "stream",
          "text": [
            "\\begin{tabular}{rrrrrrr}\n",
            "\\toprule\n",
            " TP &  FP &  FN &  FP+FN &  precision &  recall &    F\\_1 \\\\\n",
            "\\midrule\n",
            " 68 &  67 &  18 &     85 &      0.504 &   0.791 &  0.615 \\\\\n",
            "\\bottomrule\n",
            "\\end{tabular}\n",
            "\n"
          ],
          "name": "stdout"
        }
      ]
    },
    {
      "cell_type": "code",
      "metadata": {
        "id": "fLeYinRjkv9F"
      },
      "source": [
        "# add label, marker and color to each event\n",
        "labels = []\n",
        "for p in peaks:\n",
        "    if p in TPs:\n",
        "        labels.append([p, 'TP', 'k', 'gray', 'D'])\n",
        "    elif p in FPs:\n",
        "        labels.append([p, 'FP', 'k', 'gray', '^'])\n",
        "    else:\n",
        "        raise NotImplementedError\n",
        "for p in FNs:\n",
        "    labels.append([p, 'FN', 'k', 'gray', 'v'])\n",
        "labels = pd.DataFrame(labels, columns=['i', 'label', 'mec', 'mfc', 'marker'])"
      ],
      "execution_count": null,
      "outputs": []
    },
    {
      "cell_type": "code",
      "metadata": {
        "id": "h0VwQEMpkv9K"
      },
      "source": [
        "# preview labels\n",
        "labels"
      ],
      "execution_count": null,
      "outputs": []
    },
    {
      "cell_type": "markdown",
      "metadata": {
        "id": "RNZjcrkh-taF"
      },
      "source": [
        "## Figure 9"
      ]
    },
    {
      "cell_type": "code",
      "metadata": {
        "id": "qKCwyo3Bfcm2"
      },
      "source": [
        "def plot_figure(X0, X1, S, y, y_pred, time, rippleLocs, inds, peaks, labels):\n",
        "    fig = plt.figure(figsize=(12, 10))\n",
        "    gs = GridSpec(5, 1, hspace=0.3, left=0.05, right=0.95, top=0.95, bottom=0.05)\n",
        "\n",
        "    ax0 = fig.add_subplot(gs[0, 0])\n",
        "    ax0.plot(time, X0 - X0.mean(), 'k', lw=0.5,  \n",
        "            label='__nolabel__')\n",
        "\n",
        "    ax0.plot(rippleTimes / Fs, X0[rippleTimes-inds.min()] - X0.mean() + 0.4, \n",
        "            'D', mec='k', mfc='w', label='SPW-R', ms=8, clip_on=False)    \n",
        "    ax0.set_title(r'$X(t)$')\n",
        "    ax0.set_ylabel('(mV)', labelpad=0)\n",
        "    ax0.axis(ax0.axis('tight'))\n",
        "    for spine in ['top', 'bottom', 'right']:\n",
        "        ax0.spines[spine].set_visible(False)\n",
        "    plt.setp(ax0.get_xticklabels(), visible=False)\n",
        "    ax0.xaxis.set_ticks_position('none')\n",
        "    ax0.legend(loc=(1, 0.2), frameon=False, handletextpad=0)\n",
        "    annotate_subplot(ax0, ncols=3, nrows=5, letter='a')\n",
        "\n",
        "    # band-pass filtered LFP\n",
        "    ax2 = fig.add_subplot(gs[1, 0], sharex=ax0)\n",
        "    ax2.plot(time, X1, 'k', lw=0.5, label=r'$\\phi_\\mathrm{BP}(t)$')\n",
        "    ax2.set_title(r'$\\phi_\\mathrm{BP}(t)$')\n",
        "    ax2.axis(ax2.axis('tight'))\n",
        "    ax2.set_ylabel('(mV)', labelpad=0)\n",
        "    for spine in ['top', 'bottom', 'right']:\n",
        "        ax2.spines[spine].set_visible(False)\n",
        "    plt.setp(ax2.get_xticklabels(), visible=False)\n",
        "    ax2.xaxis.set_ticks_position('none')    \n",
        "    annotate_subplot(ax2, ncols=3, nrows=5, letter='b')\n",
        "\n",
        "    # spectrograms\n",
        "    ax3 = fig.add_subplot(gs[2, 0], sharex=ax0)\n",
        "    im = ax3.pcolormesh(time, S_freqs, S.T, \n",
        "                        norm=colors.LogNorm(vmin=vmin, vmax=vmax),\n",
        "                        cmap='inferno',\n",
        "                        label='spectrogram',\n",
        "                        rasterized=True)\n",
        "    rect = np.array(ax3.get_position().bounds)\n",
        "    rect[0] += rect[2] + 0.01\n",
        "    rect[2] = 0.01\n",
        "    fig = plt.gcf()\n",
        "    cax = fig.add_axes(rect)\n",
        "    cbar = fig.colorbar(im, cax=cax, extend='both')\n",
        "    cbar.set_ticks(10.**np.arange(-5, 5))\n",
        "    cbar.set_label('(a.u.)', labelpad=0)\n",
        "    ax3.axis(ax3.axis('tight'))\n",
        "    ax3.set_title(r'$S(t, f)$')\n",
        "    ax3.set_ylabel('$f$ (Hz)', labelpad=0)\n",
        "    ax3.set_xlabel('$t$ (s)', labelpad=0)\n",
        "    annotate_subplot(ax3, ncols=3, nrows=5, letter='c')\n",
        "    \n",
        "    # label vector\n",
        "    ax1 = fig.add_subplot(gs[3, 0], sharex=ax0)    \n",
        "    ax1.plot(time, y, 'k', lw=0.5, clip_on=False)\n",
        "    ax1.set_ylabel(r'$y(t)$', labelpad=0)\n",
        "    ax1.axis(ax1.axis('tight'))\n",
        "    for spine in ['top', 'bottom', 'right']:\n",
        "        ax1.spines[spine].set_visible(False)\n",
        "    plt.setp(ax1.get_xticklabels(), visible=False)\n",
        "    ax1.xaxis.set_ticks_position('none')\n",
        "    annotate_subplot(ax1, ncols=3, nrows=5, letter='d')\n",
        "    ax1.set_yticks([0, 1])\n",
        "    ax1.set_ylim(0, 1)\n",
        "\n",
        "    # label vector prediction\n",
        "    ax4 = fig.add_subplot(gs[4], sharex=ax0, sharey=ax1)    \n",
        "    ax4.plot(time, y_pred, 'k', lw=0.5, clip_on=False, label='__nolabel__')\n",
        "    #ax4.plot(time[peaks__], y_pred[peaks__]+0.1, 'kd', ms=8, clip_on=False)\n",
        "    \n",
        "    \n",
        "    for lbl in np.unique(labels.label):\n",
        "    #for _, row in labels.iterrows():\n",
        "        ax4.plot(labels[labels.label==lbl].i.astype(int) / Fs, \n",
        "                 y_pred[labels[labels.label==lbl].i.astype(int)-inds.min()]+0.1, \n",
        "                 labels[labels.label==lbl].marker.values[0], \n",
        "                 mec=labels[labels.label==lbl].mec.values[0],\n",
        "                 mfc=labels[labels.label==lbl].mfc.values[0],\n",
        "                 ms=8, clip_on=False, \n",
        "                 label=lbl)\n",
        "\n",
        "    ax4.legend(loc=(1., 0.2), frameon=False, handletextpad=0)\n",
        "\n",
        "    \n",
        "    ax4.plot([time[-1]-1, time[-1]-2], [-0.05, -0.05], 'k-', lw=1, clip_on=False)\n",
        "    ax4.text(time[-1]-1.5, -0.1, '1 s', va='top', ha='center')\n",
        "\n",
        "    \n",
        "    ax4.set_ylabel(r'$\\hat{y}(t)$', labelpad=0)\n",
        "    ax4.axis(ax1.axis('tight'))\n",
        "    ax4.set_ylim(0, 1)\n",
        "    ax4.set_yticks([0, 1])\n",
        "    for spine in ['top', 'bottom', 'right']:\n",
        "        ax4.spines[spine].set_visible(False)\n",
        "    plt.setp(ax4.get_xticklabels(), visible=False)\n",
        "    ax4.xaxis.set_ticks_position('none')    \n",
        "    ax4.set_xlim(time[0], time[-1])\n",
        "    annotate_subplot(ax4, ncols=3, nrows=5, letter='e')\n",
        "\n",
        "    return fig"
      ],
      "execution_count": null,
      "outputs": []
    },
    {
      "cell_type": "code",
      "metadata": {
        "id": "YYpgqgmc-taG"
      },
      "source": [
        "windowsize = Fs * 10"
      ],
      "execution_count": null,
      "outputs": []
    },
    {
      "cell_type": "code",
      "metadata": {
        "id": "oLPYhTgW-taN",
        "scrolled": true
      },
      "source": [
        "for i in range(Y_cont_pred.size // windowsize):\n",
        "    inds = np.arange(i*windowsize, windowsize*(i+1))\n",
        "    time = inds / Fs\n",
        "\n",
        "    X0 = f[session]['lfp'][:][inds]\n",
        "    X1 = f[session]['X1'][:][inds]\n",
        "    S = f[session]['S'][:][inds, ]\n",
        "    y = f[session]['y'][:][inds]\n",
        "\n",
        "    y_pred = Y_cont_pred.flatten()[inds]\n",
        "\n",
        "    peaks__, _ = ss.find_peaks(y_pred, height=threshold, distance=distance, width=width)\n",
        "\n",
        "    # keep ripples where run_speed == 0:\n",
        "    peaks__ = peaks__[run_speed[inds][peaks__] == 0]\n",
        "    \n",
        "    rippleInds = (rippleLocs >= inds.min()) & (rippleLocs < inds.max())\n",
        "    rippleTimes = rippleLocs[rippleInds]\n",
        "    \n",
        "    # skip plot if no events of any kinds are found in segment\n",
        "    if (rippleTimes.size + peaks__.size) == 0:\n",
        "        continue\n",
        "\n",
        "    labels_ = labels[(labels.i >= inds.min()) & (labels.i < inds.max())] \n",
        "\n",
        "    fig = plot_figure(X0, X1, S, y, y_pred, time, rippleLocs, inds, peaks, labels_)\n",
        "    \n",
        "    # save figure\n",
        "    fig.savefig(os.path.join('figures', 'figure09_{}s_{}s.pdf'.format(int(round(time[0])), \n",
        "                                                                      int(round(time[-1])))), \n",
        "                dpi=300, bbox_inches='tight', pad_inches=0.05)\n",
        "    fig.savefig(os.path.join('figures', 'figure09_{}s_{}s.eps'.format(int(round(time[0])), \n",
        "                                                                      int(round(time[-1])))), \n",
        "                dpi=300, bbox_inches='tight', pad_inches=0.05)\n",
        "    #plt.close(fig)"
      ],
      "execution_count": null,
      "outputs": []
    },
    {
      "cell_type": "markdown",
      "metadata": {
        "id": "rUogn_FI-tag"
      },
      "source": [
        "## Figure 10"
      ]
    },
    {
      "cell_type": "code",
      "metadata": {
        "id": "WsRaHZBT-taj"
      },
      "source": [
        "# compare cumulative counts of events for session\n",
        "onehot_pred = np.zeros(Y_cont_pred.size)\n",
        "onehot_pred[peaks] = 1\n",
        "onehot = np.zeros(Y_cont_pred.size)\n",
        "onehot[rippleLocs] = 1"
      ],
      "execution_count": null,
      "outputs": []
    },
    {
      "cell_type": "code",
      "metadata": {
        "id": "cnClY6BAE18g"
      },
      "source": [
        "# correlation function between rippleLocs and peaks\n",
        "bin_size = 2.5 # 2 ms at Fs=1250 Hz\n",
        "n_lags = 50 # \n",
        "\n",
        "bin_count = X0_cont.size // bin_size\n",
        "if (X0_cont.size % bin_size) > 0:\n",
        "    bin_count += 1\n",
        "bins = np.arange(bin_count) * bin_size + bin_size / 2\n",
        "\n",
        "labels_binned, _ = np.histogram(rippleLocs, bins=bins)\n",
        "preds_binned, _ = np.histogram(peaks, bins=bins)\n",
        "\n",
        "Cxy = np.correlate(labels_binned-labels_binned.mean(), \n",
        "                    preds_binned-preds_binned.mean(), 'same')[::-1] / \\\n",
        "                        (labels_binned.std() * preds_binned.std() * preds_binned.size) \n",
        "\n",
        "lags = (bins - Cxy.size // 2 * bin_size) / Fs * 1000\n",
        "lag_inds = np.arange(n_lags) + lags.size // 2 - n_lags // 2 - 1"
      ],
      "execution_count": null,
      "outputs": []
    },
    {
      "cell_type": "code",
      "metadata": {
        "id": "yCvfSuEyw9Rp"
      },
      "source": [
        "def get_samples(f, session, inds, lag):\n",
        "\n",
        "    # create arrays of training and validation samples combining data from all sessions\n",
        "    X0 = [] # container for raw data segments\n",
        "    X1 = [] # container for gamma-band data segments\n",
        "    S = []  # container for specgram\n",
        "    Y = []  # container for labels\n",
        "    labels = [] # data labels (session, rippleLoc, offset)\n",
        "\n",
        "    sample_size = lag * 2 + 1\n",
        "\n",
        "    for ind in inds:\n",
        "        # center segments on event\n",
        "        offset = -sample_size // 2        \n",
        "        \n",
        "        # extract\n",
        "        idx = np.arange(sample_size) + ind + offset\n",
        "        if idx.min() < 0:\n",
        "            idx -= idx.min()\n",
        "        elif idx.max() >= f[session]['lfp'].size:\n",
        "            idx = idx - (idx.max() - f[session]['lfp'].size + 1) \n",
        "        X0.append(f[session]['lfp'][:][idx])\n",
        "        X1.append(f[session]['X1'][:][idx])\n",
        "        S.append(f[session]['S'][:][idx, ])\n",
        "        labels.append((session, ind, offset))\n",
        "\n",
        "    # convert to numpy arrays, downcast to single precision\n",
        "    X0 = np.array(X0).astype(np.float32)\n",
        "    X1 = np.array(X1).astype(np.float32)\n",
        "    S = np.array(S).astype(np.float32)\n",
        "    labels = np.array(labels, dtype=[('session', 'S16'), ('rippleLocs', np.int32), ('offset', np.int32)])\n",
        "\n",
        "    return X0, X1, S, labels"
      ],
      "execution_count": null,
      "outputs": []
    },
    {
      "cell_type": "code",
      "metadata": {
        "id": "vRW2A4YB-tam"
      },
      "source": [
        "fig = plt.figure(figsize=(12, 5))\n",
        "gs = GridSpec(2,3, left=0.05, right=0.95, bottom=0.05, top=0.95, wspace=0.3, hspace=0.3)\n",
        "\n",
        "# cumulative counts\n",
        "ax = fig.add_subplot(gs[0, 0])\n",
        "ax.plot(onehot.cumsum(), onehot_pred.cumsum())\n",
        "ax.set_xlabel('# labeled SPW-R', labelpad=0)\n",
        "ax.set_ylabel('# pred. SPW-R', labelpad=0)\n",
        "annotate_subplot(ax, ncols=10, nrows=2, letter='a')\n",
        "\n",
        "# correlation function\n",
        "ax = fig.add_subplot(gs[1, 0])\n",
        "#ax.step(lags[lag_inds], Cxy[lag_inds], where='mid')\n",
        "ax.fill_between(lags[lag_inds], Cxy[lag_inds], step='pre')\n",
        "ax.set_xlabel(r'$\\tau$ (ms)', labelpad=0)\n",
        "ax.set_ylabel(r'$\\rho_{y\\hat{y}}(\\tau)$', labelpad=0)\n",
        "annotate_subplot(ax, ncols=10, nrows=2, letter='b')\n",
        "\n",
        "# energy vs (1-y)\n",
        "ax0 = fig.add_subplot(gs[0, 1])\n",
        "ax1 = fig.add_subplot(gs[1, 1], sharex=ax0, sharey=ax0)\n",
        "\n",
        "lag = int(100 * Fs / 1000) # 100 ms @ Fs\n",
        "y_max_labeled = Y_cont_pred[0, rippleLocs + np.expand_dims(np.arange(-31, 32), -1), 0].max(axis=0)\n",
        "y_max_pred = Y_cont_pred[0, peaks, 0]\n",
        "E_s = []\n",
        "for j, (inds, confidence, marker, label, ax) in enumerate(zip([rippleLocs, peaks], \n",
        "                                                          [y_max_labeled, y_max_pred], \n",
        "                                                          ['.', '.'],\n",
        "                                                          [r'$y$', r'$\\hat{y}$'],\n",
        "                                                          [ax0, ax1] \n",
        "                                                         )):\n",
        "    _, X1_, _, _ = get_samples(f, session, inds, lag)\n",
        "    # energy measure\n",
        "    E_s.append(np.sum(X1_**2, axis=1))\n",
        "    sns.kdeplot(np.log10(1-confidence), np.log10(E_s[-1]), ax=ax, cbar=False, shade=False)\n",
        "    ax.plot(np.log10(1-confidence), np.log10(E_s[-1]), marker, ms=8, alpha=1, label=label)\n",
        "    ax.set_ylabel(r'$\\log_{10}(E_s^{\\langle j \\rangle})$', labelpad=0)\n",
        "xvals = np.log10(1-np.r_[y_max_labeled, y_max_pred])\n",
        "yvals = np.log10(np.r_[E_s[0], E_s[1]])\n",
        "ax1.set_xlim(xvals.min(), xvals.max())\n",
        "ax1.set_ylim(yvals.min(), yvals.max())\n",
        "ax1.set_xlabel(r'$\\log_{10}(1-\\hat{y}^{\\langle j \\rangle})$', labelpad=0)\n",
        "annotate_subplot(ax0, ncols=8, nrows=2, letter='c')\n",
        "\n",
        "\n",
        "# averaged SPW-R spectrograms\n",
        "time = np.arange(-lag, lag+1) / Fs * 1000\n",
        "for j, inds in enumerate([rippleLocs, peaks]): \n",
        "    X0_, X1_, S_, labels_ = get_samples(f, session, inds, lag)\n",
        "\n",
        "    ax = fig.add_subplot(gs[j, 2])\n",
        "\n",
        "    #vmin, vmax = np.exp(np.percentile(np.log(S_cont.flatten()), [1, 99]))\n",
        "    im = ax.pcolormesh(time, S_freqs, S_.mean(axis=0).T, \n",
        "                       norm=colors.LogNorm(vmin=vmin, vmax=vmax),\n",
        "                       cmap='inferno',\n",
        "                       label='spectrogram',\n",
        "                       rasterized=True)\n",
        "    #if j == 1:\n",
        "    rect = np.array(ax.get_position().bounds)\n",
        "    rect[0] += rect[2] + 0.01\n",
        "    rect[2] = 0.01\n",
        "    fig = plt.gcf()\n",
        "    cax = fig.add_axes(rect)\n",
        "    \n",
        "    cbar = fig.colorbar(im, cax=cax, extend='both')\n",
        "    cbar.set_ticks(10.**np.arange(-5, 5))\n",
        "    cbar.set_label('(a.u.)', labelpad=0)\n",
        "    ax.axis(ax.axis('tight'))\n",
        "    ax.set_ylabel('$f$ (Hz)', labelpad=0)\n",
        "    if j == 1:\n",
        "        ax.set_xlabel(r'$\\tau$ (ms)', labelpad=0)\n",
        "    if j == 0:\n",
        "        annotate_subplot(ax, ncols=8, nrows=2, letter='d')\n",
        "\n",
        "# save figure\n",
        "fig.savefig(os.path.join('figures', 'figure10.pdf'), dpi=300, bbox_inches='tight', pad_inches=0.05)\n",
        "fig.savefig(os.path.join('figures', 'figure10.eps'), dpi=300, bbox_inches='tight', pad_inches=0.05)"
      ],
      "execution_count": null,
      "outputs": []
    },
    {
      "cell_type": "markdown",
      "metadata": {
        "id": "L4r9k7yp9MTS"
      },
      "source": [
        "## Compare SPW-R predictions to labeled events\n",
        "input, filtered LFPs, spectrograms"
      ]
    },
    {
      "cell_type": "code",
      "metadata": {
        "id": "z1RFgDITsizm"
      },
      "source": [
        "n_samples = 8\n",
        "lag = int(100 * Fs / 1000) # 100 ms @ Fs\n",
        "time = np.arange(-lag, lag+1) / Fs * 1000"
      ],
      "execution_count": null,
      "outputs": []
    },
    {
      "cell_type": "code",
      "metadata": {
        "id": "k-4bktAQsi3m",
        "scrolled": false
      },
      "source": [
        "# plot labeled ripple events with scores by the RippleNet \n",
        "n_plots = rippleLocs.size // 10\n",
        "if rippleLocs.size % 10 > 0:\n",
        "    n_plots += 1\n",
        "\n",
        "# get scoring at times of labeled rippleLocs\n",
        "confidence = Y_cont_pred[0, rippleLocs + np.expand_dims(np.arange(-31, 32), -1), 0].max(axis=0) \n",
        "sort = np.argsort(confidence)[::-1]\n",
        "\n",
        "#for k in range(n_plots):\n",
        "#    inds_labeled = rippleLocs[sort][k*n_samples:(k+1)*n_samples]\n",
        "#    conf_labeled = confidence[sort][k*n_samples:(k+1)*n_samples]\n",
        "#    j_super = np.arange(rippleLocs.size)[sort][k*n_samples:(k+1)*n_samples]\n",
        "\n",
        "# plot only the n_samples best and worst examples\n",
        "for k, inds in enumerate([np.arange(rippleLocs.size)[:n_samples], \n",
        "                          np.arange(rippleLocs.size)[-n_samples:]]):\n",
        "    inds_labeled = rippleLocs[sort][inds]\n",
        "    conf_labeled = confidence[sort][inds]\n",
        "    j_super = np.arange(rippleLocs.size)[sort][inds]\n",
        "\n",
        "    for j, (inds, dataset) in enumerate(zip([inds_labeled], ['labeled'])): \n",
        "        fig, axes = plt.subplots(3, n_samples, figsize=(12, 6), sharex=True, sharey='row')\n",
        "        fig.subplots_adjust(left=0.09, bottom=0.08, top=0.95)\n",
        "        X0_, X1_, S_, labels_ = get_samples(f, session, inds, lag)\n",
        "\n",
        "        for i in range(n_samples):\n",
        "            # raw LFP with ripple label\n",
        "            ax0 = axes[0, i]\n",
        "            try:\n",
        "                ax0.plot(time, X0_[i, ] - X0_[i, ].mean(), 'k', lw=0.5,  \n",
        "                        label=r'$X^{\\langle' + '{}'.format(i+1) + r'\\rangle}(t)$')\n",
        "            except IndexError:\n",
        "                for ax in axes[:, i]:\n",
        "                    ax.axis('off')\n",
        "                continue\n",
        "\n",
        "            if i == 0:\n",
        "                ax0.set_ylabel('(mV)', labelpad=0)\n",
        "            ax0.axis(ax0.axis('tight'))\n",
        "            for spine in ['top', 'right']:\n",
        "                ax0.spines[spine].set_visible(False)\n",
        "            ax0.set_title(r'$\\hat{y}^{\\langle ' + str(np.where(rippleLocs==inds[i])[0][0]) + \n",
        "                          r' \\rangle}=' + '{:.2f}'.format(conf_labeled[i].max()) + r'$')\n",
        "\n",
        "\n",
        "            # band-pass filtered LFP\n",
        "            ax2 = axes[1, i]\n",
        "            ax2.plot(time, X1_[i, ], 'k', lw=0.5, label=r'$\\phi_\\mathrm{BP}(t)$')\n",
        "            ax2.axis(ax2.axis('tight'))\n",
        "            if i == 0:\n",
        "                ax2.set_ylabel('(mV)', labelpad=0)\n",
        "            for spine in ['top', 'right']:\n",
        "                ax2.spines[spine].set_visible(False)\n",
        "            \n",
        "            ax3 = axes[2, i]\n",
        "            im = ax3.pcolormesh(time, S_freqs, S_[i, ].T, \n",
        "                                norm=colors.LogNorm(vmin=vmin, vmax=vmax),\n",
        "                                cmap='inferno',\n",
        "                                label='spectrogram',\n",
        "                                rasterized=True)\n",
        "            if i == n_samples-1:\n",
        "                rect = np.array(ax3.get_position().bounds)\n",
        "                rect[0] += rect[2] + 0.01\n",
        "                rect[2] = 0.01\n",
        "                fig = plt.gcf()\n",
        "                cax = fig.add_axes(rect)\n",
        "\n",
        "                cbar = fig.colorbar(im, cax=cax, extend='both')\n",
        "                cbar.set_ticks(10.**np.arange(-5, 5))\n",
        "                cbar.set_label('(a.u.)', labelpad=0)\n",
        "            ax3.axis(ax3.axis('tight'))\n",
        "            ax3.set_xticklabels([-100, 0])\n",
        "            if i == 0:\n",
        "                ax3.set_ylabel('$f$ (Hz)', labelpad=0)\n",
        "            ax3.set_xlabel(r'$\\tau$ (ms)', labelpad=0)\n",
        "\n",
        "    # save figure\n",
        "    fig.savefig(os.path.join('figures', 'figure11_{}.pdf'.format(k)), \n",
        "                dpi=300) #, bbox_inches='tight', pad_inches=0.05)\n",
        "    fig.savefig(os.path.join('figures', 'figure11_{}.eps'.format(k)), \n",
        "                dpi=300) #, bbox_inches='tight', pad_inches=0.05)"
      ],
      "execution_count": null,
      "outputs": []
    },
    {
      "cell_type": "code",
      "metadata": {
        "id": "lXKHfc0G9w6M",
        "scrolled": false
      },
      "source": [
        "# Draw input and spectrograms for predictions, sort accd. to confidence (highest first).  \n",
        "n_plots = peaks.size // 10\n",
        "if peaks.size % 10 > 0:\n",
        "    n_plots += 1\n",
        "\n",
        "confidence = Y_cont_pred[0, peaks, 0]\n",
        "sort = np.argsort(confidence)[::-1]\n",
        "\n",
        "#for k in range(n_plots):\n",
        "#    inds_pred = peaks[sort][k*n_samples:(k+1)*n_samples]\n",
        "#    conf_pred = confidence[sort][k*n_samples:(k+1)*n_samples]\n",
        "#    label_labeled = labels.loc[sort][k*n_samples:(k+1)*n_samples]\n",
        "#    j_super = np.arange(peaks.size)[sort][k*n_samples:(k+1)*n_samples]\n",
        "\n",
        "# plot only the n_samples best and worst examples\n",
        "for k, inds in enumerate([np.arange(peaks.size)[:n_samples], \n",
        "                          np.arange(peaks.size)[-n_samples:]]):\n",
        "    inds_pred = peaks[sort][inds]\n",
        "    conf_pred = confidence[sort][inds]\n",
        "    label_labeled = labels.loc[sort].reset_index().loc[inds] #labels.loc[sort][inds]\n",
        "    j_super = np.arange(peaks.size)[sort][inds]\n",
        "\n",
        "    for j, (inds, dataset) in enumerate(zip([inds_pred], ['predicted'])): \n",
        "        fig, axes = plt.subplots(3, n_samples, figsize=(12, 6), sharex=True, sharey='row')\n",
        "        fig.subplots_adjust(left=0.09, bottom=0.08, top=0.95)\n",
        "        X0_, X1_, S_, labels_ = get_samples(f, session, inds, lag)\n",
        "\n",
        "        for i in range(n_samples):\n",
        "            # raw LFP with ripple label\n",
        "            ax0 = axes[0, i]\n",
        "            try:\n",
        "                ax0.plot(time, X0_[i, ] - X0_[i, ].mean(), 'k', lw=0.5,  \n",
        "                        label=r'$X^{\\langle' + '{}'.format(i+1) + r'\\rangle}(t)$')\n",
        "            except IndexError:\n",
        "                for ax in axes[:, i]:\n",
        "                    ax.axis('off')\n",
        "                continue\n",
        "                \n",
        "            if i == 0:\n",
        "                ax0.set_ylabel('(mV)', labelpad=0)\n",
        "            ax0.axis(ax0.axis('tight'))\n",
        "            for spine in ['top', 'right']:\n",
        "                ax0.spines[spine].set_visible(False)\n",
        "            ax0.set_title(r'$\\hat{y}^{\\langle ' + str(j_super[i]) + \n",
        "                          r' \\rangle}=' + '{:.2f}'.format(conf_pred[i]) + r'$')\n",
        "\n",
        "            # band-pass filtered LFP\n",
        "            ax2 = axes[1, i]\n",
        "            ax2.plot(time, X1_[i, ], 'k', lw=0.5, label=r'$\\phi_\\mathrm{BP}(t)$')\n",
        "            ax2.axis(ax2.axis('tight'))\n",
        "            if i == 0:\n",
        "                ax2.set_ylabel('(mV)', labelpad=0)\n",
        "            for spine in ['top', 'right']:\n",
        "                ax2.spines[spine].set_visible(False)\n",
        "            \n",
        "            ax2.set_title(label_labeled.label.values[i], \n",
        "                          color=label_labeled.color.values[i])\n",
        "\n",
        "            \n",
        "            ax3 = axes[2, i]\n",
        "            im = ax3.pcolormesh(time, S_freqs, S_[i, ].T, \n",
        "                                norm=colors.LogNorm(vmin=vmin, vmax=vmax),\n",
        "                                cmap='inferno',\n",
        "                                label='spectrogram',\n",
        "                                rasterized=True)\n",
        "            if i == n_samples-1:\n",
        "                rect = np.array(ax3.get_position().bounds)\n",
        "                rect[0] += rect[2] + 0.01\n",
        "                rect[2] = 0.01\n",
        "                fig = plt.gcf()\n",
        "                cax = fig.add_axes(rect)\n",
        "                \n",
        "                cbar = fig.colorbar(im, cax=cax, extend='both')\n",
        "                cbar.set_ticks(10.**np.arange(-5, 5))\n",
        "                cbar.set_label('(a.u.)', labelpad=0)\n",
        "            ax3.axis(ax3.axis('tight'))\n",
        "            ax3.set_xticklabels([-100, 0])\n",
        "            if i == 0:\n",
        "                ax3.set_ylabel('$f$ (Hz)', labelpad=0)\n",
        "            ax3.set_xlabel(r'$\\tau$ (ms)', labelpad=0)\n",
        "\n",
        "        # save figure\n",
        "        fig.savefig(os.path.join('figures', 'figure12_{}.pdf'.format(k)), \n",
        "                    dpi=300) #, bbox_inches='tight', pad_inches=0.05)\n",
        "        fig.savefig(os.path.join('figures', 'figure12_{}.eps'.format(k)), \n",
        "                    dpi=300) #, bbox_inches='tight', pad_inches=0.05)"
      ],
      "execution_count": null,
      "outputs": []
    },
    {
      "cell_type": "code",
      "metadata": {
        "id": "GZ41l9Ockv-D"
      },
      "source": [
        "# panel A for figure 1 "
      ],
      "execution_count": null,
      "outputs": []
    },
    {
      "cell_type": "code",
      "metadata": {
        "id": "I5ElcXcauoXJ"
      },
      "source": [
        "confidence = Y_cont_pred[0, peaks, 0]\n",
        "sort = np.argsort(confidence)[::-1]\n",
        "\n",
        "k = 0\n",
        "inds = np.array([0])\n",
        "\n",
        "inds_pred = peaks[sort][inds]\n",
        "conf_pred = confidence[sort][inds]\n",
        "label_labeled = labels.loc[sort].reset_index().loc[inds] #labels.loc[sort][inds]\n",
        "j_super = np.arange(peaks.size)[sort][inds]\n",
        "\n",
        "\n",
        "inds = inds_pred\n",
        "\n",
        "fig = plt.figure(figsize=(2,4))\n",
        "gs = GridSpec(3, 1, hspace=0.3)\n",
        "\n",
        "X0_, X1_, S_, labels_ = get_samples(f, session, inds, lag)\n",
        "\n",
        "i = 0\n",
        "\n",
        "# raw LFP with ripple label\n",
        "ax0 = fig.add_subplot(gs[0, 0])\n",
        "ax0.plot(time, X0_[i, ] - X0_[i, ].mean(), 'k', lw=0.5,  \n",
        "        label=r'$X^{\\langle' + '{}'.format(i+1) + r'\\rangle}(t)$')\n",
        "ax0.set_ylabel('(mV)', labelpad=0)\n",
        "ax0.axis(ax0.axis('tight'))\n",
        "for spine in ['top', 'right', 'bottom']:\n",
        "    ax0.spines[spine].set_visible(False)\n",
        "ax0.set_xticks([])\n",
        "ax0.set_xticklabels([])\n",
        "ax0.set_title('LFP/SPW-R')\n",
        "annotate_subplot(ax0, ncols=10, nrows=8, letter='a')\n",
        "\n",
        "# band-pass filtered LFP\n",
        "ax2 = fig.add_subplot(gs[1, 0])\n",
        "ax2.plot(time, X1_[i, ], 'k', lw=0.5, label=r'$\\phi_\\mathrm{BP}(t)$')\n",
        "ax2.axis(ax2.axis('tight'))\n",
        "ax2.set_ylabel('(mV)', labelpad=0)\n",
        "for spine in ['top', 'right', 'bottom']:\n",
        "    ax2.spines[spine].set_visible(False)\n",
        "ax2.set_xticks([])\n",
        "ax2.set_xticklabels([])\n",
        "ax2.set_title(r'$150-250$ Hz SPW-R')\n",
        "\n",
        "\n",
        "# spectrogram\n",
        "#ax3 = axes[2]\n",
        "ax3 = fig.add_subplot(gs[2:, 0])\n",
        "vmin, vmax_ = np.exp(np.percentile(np.log(f[session]['S'][:Fs*30, :].flatten()), [1, 99.9]))\n",
        "#levels = np.linspace(vmin, vmax_, 20)\n",
        "im = ax3.pcolormesh(time, S_freqs, S_[i, ].T, \n",
        "                    norm=colors.LogNorm(vmin=vmin, vmax=vmax_),\n",
        "                    cmap='inferno',\n",
        "                    label='spectrogram',\n",
        "                    #levels=levels,\n",
        "                    rasterized=True)\n",
        "rect = np.array(ax3.get_position().bounds)\n",
        "rect[0] += rect[2] + 0.01\n",
        "rect[2] = 0.05\n",
        "fig = plt.gcf()\n",
        "cax = fig.add_axes(rect)\n",
        "\n",
        "cbar = fig.colorbar(im, cax=cax, extend='both')\n",
        "cbar.set_ticks(10.**np.arange(-5, 5))\n",
        "cbar.set_label('(a.u.)', labelpad=0)\n",
        "ax3.axis(ax3.axis('tight'))\n",
        "if i == 0:\n",
        "    ax3.set_ylabel('$f$ (Hz)', labelpad=0)\n",
        "ax3.set_xlabel(r'$\\tau$ (ms)', labelpad=0)\n",
        "ax3.set_title('SPW-R spectrogram')\n",
        "\n",
        "# save figure\n",
        "# fig.savefig(os.path.join('figures', 'figure1A.pdf'), \n",
        "#             dpi=300, bbox_inches='tight', pad_inches=0.0)\n",
        "# fig.savefig(os.path.join('figures', 'figure1A.eps'), \n",
        "#             dpi=300, bbox_inches='tight', pad_inches=0.0)"
      ],
      "execution_count": null,
      "outputs": []
    },
    {
      "cell_type": "markdown",
      "metadata": {
        "id": "Y65k0hV34cfP"
      },
      "source": [
        "## Panel B:"
      ]
    },
    {
      "cell_type": "code",
      "metadata": {
        "id": "KOIFUJKb4cfP",
        "scrolled": true
      },
      "source": [
        "fig, ax = plt.subplots(1, figsize=(12, 8))\n",
        "annotate_subplot(ax, ncols=1, nrows=1, letter='b')\n",
        "ax.axis('off')\n",
        "\n",
        "ms = 12  # marker size\n",
        "n_samples = 11\n",
        "\n",
        "for i, l in enumerate(model._layers):\n",
        "    if l._name.rfind('input') >= 0:\n",
        "        marker = 'o'\n",
        "        color = 'k'\n",
        "        ls = ''\n",
        "        name = 'Input'\n",
        "    elif l._name.rfind('gaussian_noise') >= 0:\n",
        "        marker = 'P'\n",
        "        color = 'gray'\n",
        "        ls = ''\n",
        "        name = 'Gaussian'\n",
        "    elif l._name.rfind('conv1d') >= 0:\n",
        "        marker = '*'\n",
        "        color = 'k'\n",
        "        ls = ''\n",
        "        name = 'Conv1D'\n",
        "    elif l._name.rfind('LSTM') >= 0:\n",
        "        marker = '>'\n",
        "        color = 'C0'\n",
        "        ls = ''\n",
        "        name = 'LSTM'\n",
        "    elif l._name.rfind('bidir') >= 0:\n",
        "        marker = '><'\n",
        "        color = 'C0'\n",
        "        ls = ''\n",
        "        name = 'Bidir(LSTM)'\n",
        "    elif l._name.rfind('time_distributed') >= 0:\n",
        "        marker = 'D'\n",
        "        color = 'k'\n",
        "        ls = ''\n",
        "        name = 'TimeDistributed(Dense)'\n",
        "    elif l._name.rfind('dropout') >= 0:\n",
        "        marker = '$D$'\n",
        "        color = 'gray'\n",
        "        ls = ''\n",
        "        name = 'Dropout'\n",
        "    elif l._name.rfind('batch_normalization') >= 0:\n",
        "        marker = '$N$'\n",
        "        color = 'gray'\n",
        "        ls = ''\n",
        "        name = 'BatchNorm'\n",
        "    elif l._name.rfind('activation') >= 0:\n",
        "        marker = 'X'\n",
        "        color = 'gray'\n",
        "        ls = ''\n",
        "        name = 'Activation(ReLu)'\n",
        "    else:\n",
        "        raise NotImplementedError\n",
        "        marker = '.'\n",
        "        color = 'gray'\n",
        "        ls = ''\n",
        "        name = 'none'\n",
        "    \n",
        "    # 'node' position along time axis\n",
        "    xpos = np.arange(n_samples) - (n_samples // 2)\n",
        "    ypos = np.zeros(n_samples) + i\n",
        "    \n",
        "    # draw vertices across layers\n",
        "    source_x = xpos\n",
        "    target_x = xpos\n",
        "    source_y = ypos\n",
        "    target_y = ypos + 1\n",
        "    for (sx, sy, tx, ty) in zip(source_x, source_y, target_x, target_y):\n",
        "        ax.plot([sx, tx], [sy, ty], '-', \n",
        "                color='gray', lw=0.5, zorder=-1, clip_on=False)\n",
        "    if name.rfind('LSTM') >= 0:\n",
        "        ax.plot([-n_samples/2, n_samples/2], [i, i], '-',\n",
        "                 color='gray', lw=0.5, zorder=-1, clip_on=False)\n",
        "    \n",
        "    if name in ['Input']:\n",
        "        for (sx, sy, tx, ty) in zip(source_x, source_y-1, target_x, target_y-1):\n",
        "            ax.plot([sx, tx], [sy, ty], '-', \n",
        "                    color='gray', lw=0.5, zorder=-1, clip_on=False)\n",
        "    \n",
        "    # draw horizontal box with width corresponding to # samples\n",
        "    if name in ['Input', 'Conv1D', 'TimeDistributed(Dense)']:\n",
        "        if isinstance(l.input_shape, tuple):\n",
        "            for j in range(l.output_shape[-1]):\n",
        "                if j == 0:\n",
        "                    rect = plt.Rectangle((-(n_samples / 2) - 0.25, i-0.25), n_samples + 0.5, 0.5, \n",
        "                                         clip_on=False)\n",
        "                    ax.add_patch(rect)\n",
        "                else:\n",
        "                    rect = plt.Rectangle((-(n_samples / 2) - 0.25 + j*0.01, i-0.25+j*0.01), \n",
        "                                         n_samples + 0.5, 0.5, \n",
        "                                         zorder=-j,\n",
        "                                         fc='gray',\n",
        "                                         clip_on=False)\n",
        "                    ax.add_patch(rect)\n",
        "        else:\n",
        "            rect = plt.Rectangle((-(n_samples / 2) - 0.25, i-0.25), n_samples + 0.5, 0.5, clip_on=False)\n",
        "            ax.add_patch(rect)\n",
        "    else:\n",
        "        if name in ['Bidir(LSTM)']:\n",
        "            for j in range(l.output_shape[-1] // 2):\n",
        "                if j == 0:\n",
        "                    colorj = color\n",
        "                else:\n",
        "                    colorj = 'gray'\n",
        "                ax.plot(xpos + j*0.01, ypos + j*0.01, \n",
        "                        ls=ls, color=colorj, marker=marker[0], ms=ms, zorder=-j, clip_on=False)\n",
        "                xy_offset = 0.25\n",
        "                ax.plot(xpos + xy_offset + j*0.01, ypos + xy_offset + j*0.01,\n",
        "                        ls=ls, color=colorj, marker=marker[1], ms=ms, zorder=-j, clip_on=False)\n",
        "            ax.plot([-n_samples / 2 + xy_offset, n_samples / 2 + xy_offset], \n",
        "                    [i + xy_offset, i + xy_offset], \n",
        "                    ls=':', color='gray', lw=0.5, zorder=-1, clip_on=False)\n",
        "            for (sx, sy) in zip(source_x + xy_offset, source_y):\n",
        "                ax.plot([sx, sx], [sy - 0.5 + xy_offset, sy + 0.5 + xy_offset], ':', \n",
        "                        color='gray', lw=0.5, zorder=-1, clip_on=False)\n",
        "        elif name in ['LSTM']:\n",
        "            for j in range(l.output_shape[-1] // 2):\n",
        "                if j > 0:\n",
        "                    color='gray'\n",
        "                ax.plot(xpos + j*0.01, ypos + j*0.01, \n",
        "                        ls=ls, color=color, marker=marker, ms=ms, zorder=-j, clip_on=False)\n",
        "        else:\n",
        "            ax.plot(xpos, ypos, \n",
        "                    ls=ls, color=color, marker=marker, ms=ms, clip_on=False)\n",
        "        \n",
        "    # layer names\n",
        "    if isinstance(l.input_shape, tuple):\n",
        "        ax.text(n_samples / 2 + 0.5 , i, \n",
        "                name + r'$^{(N,%s)}$' % (l.output_shape[-1]), \n",
        "                va='center', clip_on=False)\n",
        "    elif isinstance(l.input_shape, list):\n",
        "        ax.text(n_samples / 2 + 0.5, i, \n",
        "                name + r'$_{(N,%s)}^{(N,%s)}$' % (l.input_shape[0][-1], l.output_shape[0][-1]), \n",
        "                va='center', clip_on=False)\n",
        "\n",
        "# plot input/output prediction data labels\n",
        "for i in range(- (n_samples // 2), n_samples // 2 + 1):\n",
        "    if i < 0:\n",
        "        xstring = r'$X^{\\langle n-%s \\rangle}$' % str(abs(i))\n",
        "    elif i == 0:\n",
        "        xstring = r'$X^{\\langle n \\rangle}$'\n",
        "    else:\n",
        "        xstring = r'$X^{\\langle n+%s \\rangle}$' % str(i)\n",
        "    ystring = xstring.replace('X', '\\hat{y}')\n",
        "    \n",
        "    ax.text(i, -1, xstring, ha='center', va='center')\n",
        "    ax.text(i, len(model.layers), ystring, ha='center', va='center')\n",
        "\n",
        "# plot input LFP trace\n",
        "i = 0\n",
        "x_trace = X0_[i, ] - X0_[i, ].mean() - 2\n",
        "ax.plot(time / time.max() * (n_samples // 2 + 1), x_trace, 'k', lw=1, clip_on=False)\n",
        "ax.text((n_samples // 2 + 1), -2, r'$X(t)$')\n",
        "\n",
        "# plot output prediction\n",
        "y_hat = Y_cont_pred[:, inds[0]-lag:inds[0] + lag + 1, :].flatten()\n",
        "ax.plot(time / time.max() * (n_samples // 2 + 1), y_hat + len(model.layers) + 1, 'k', lw=1, clip_on=False)\n",
        "ax.text((n_samples // 2 + 1), len(model.layers) + 1, r'$\\hat{y}(t)$')\n",
        "\n",
        "# additional lines\n",
        "for i in range(-(n_samples // 2), n_samples // 2 + 1):\n",
        "    ax.plot([time[lag + i] / time.max() * (n_samples // 2 + 1), i], [x_trace[lag + i], -1],\n",
        "            '-', color='gray', lw=0.5, zorder=-1)\n",
        "    ax.plot([time[lag + i] / time.max() * (n_samples // 2 + 1), i], \n",
        "            [y_hat[lag + i] + len(model.layers) + 1, len(model.layers)],\n",
        "            '-', color='gray', lw=0.5, zorder=-1)\n",
        "ax.set_xlim(-(n_samples / 2)-0.5, n_samples / 2 + 3)"
      ],
      "execution_count": null,
      "outputs": []
    },
    {
      "cell_type": "markdown",
      "metadata": {
        "id": "VNUiRB_H4cfQ"
      },
      "source": [
        "# Figure 1\n"
      ]
    },
    {
      "cell_type": "code",
      "metadata": {
        "id": "aIFiTyU34cfQ"
      },
      "source": [
        "fig = plt.figure(figsize=(12, 7))\n",
        "gs = GridSpec(3, 9, hspace=0.3, wspace=-0.1)\n",
        "\n",
        "i = 0\n",
        "\n",
        "# raw LFP with ripple label\n",
        "ax0 = fig.add_subplot(gs[0, :2])\n",
        "ax0.plot(time, X0_[i, ] - X0_[i, ].mean(), 'k', lw=0.5,  \n",
        "        label=r'$X^{\\langle' + '{}'.format(i+1) + r'\\rangle}(t)$')\n",
        "ax0.set_ylabel('(mV)', labelpad=0)\n",
        "ax0.axis(ax0.axis('tight'))\n",
        "for spine in ['top', 'right', 'bottom']:\n",
        "    ax0.spines[spine].set_visible(False)\n",
        "ax0.set_xticks([])\n",
        "ax0.set_xticklabels([])\n",
        "ax0.set_title('LFP/SPW-R')\n",
        "annotate_subplot(ax0, ncols=10, nrows=8, letter='a')\n",
        "\n",
        "# band-pass filtered LFP\n",
        "ax2 = fig.add_subplot(gs[1, :2])\n",
        "ax2.plot(time, X1_[i, ], 'k', lw=0.5, label=r'$\\phi_\\mathrm{BP}(t)$')\n",
        "ax2.axis(ax2.axis('tight'))\n",
        "ax2.set_ylabel('(mV)', labelpad=0)\n",
        "for spine in ['top', 'right', 'bottom']:\n",
        "    ax2.spines[spine].set_visible(False)\n",
        "ax2.set_xticks([])\n",
        "ax2.set_xticklabels([])\n",
        "ax2.set_title(r'$150-250$ Hz SPW-R')\n",
        "annotate_subplot(ax2, ncols=10, nrows=8, letter='b')\n",
        "\n",
        "\n",
        "# spectrogram\n",
        "#ax3 = axes[2]\n",
        "ax3 = fig.add_subplot(gs[2, :2])\n",
        "vmin, vmax_ = np.exp(np.percentile(np.log(f[session]['S'][:Fs*30, :].flatten()), [1, 99.9]))\n",
        "#levels = np.linspace(vmin, vmax_, 20)\n",
        "im = ax3.pcolormesh(time, S_freqs, S_[i, ].T, \n",
        "                    norm=colors.LogNorm(vmin=vmin, vmax=vmax_),\n",
        "                    cmap='inferno',\n",
        "                    label='spectrogram',\n",
        "                    #levels=levels,\n",
        "                    rasterized=True)\n",
        "rect = np.array(ax3.get_position().bounds)\n",
        "rect[0] += rect[2] + 0.002\n",
        "rect[2] = 0.015\n",
        "fig = plt.gcf()\n",
        "cax = fig.add_axes(rect)\n",
        "\n",
        "cbar = fig.colorbar(im, cax=cax, extend='both', aspect=1)\n",
        "cbar.set_ticks(10.**np.arange(-5, 5))\n",
        "cbar.set_label('(a.u.)', labelpad=0)\n",
        "ax3.axis(ax3.axis('tight'))\n",
        "if i == 0:\n",
        "    ax3.set_ylabel('$f$ (Hz)', labelpad=0)\n",
        "ax3.set_xlabel(r'$\\tau$ (ms)', labelpad=0)\n",
        "ax3.set_title('SPW-R spectrogram')\n",
        "annotate_subplot(ax3, ncols=10, nrows=8, letter='c')\n",
        "\n",
        "\n",
        "\n",
        "##############################################\n",
        "ax = fig.add_subplot(gs[:, 3:])\n",
        "\n",
        "annotate_subplot(ax, ncols=1, nrows=2.5, letter='d')\n",
        "ax.axis('off')\n",
        "\n",
        "ms = 12  # marker size\n",
        "n_samples = 7 # number of time samples\n",
        "\n",
        "for i, l in enumerate(model._layers):\n",
        "    if l._name.rfind('input') >= 0:\n",
        "        marker = 'o'\n",
        "        color = 'k'\n",
        "        ls = ''\n",
        "        name = 'Input'\n",
        "    elif l._name.rfind('gaussian_noise') >= 0:\n",
        "        marker = 'P'\n",
        "        color = 'gray'\n",
        "        ls = ''\n",
        "        name = 'Gaussian'\n",
        "    elif l._name.rfind('conv1d') >= 0:\n",
        "        marker = '*'\n",
        "        color = 'k'\n",
        "        ls = ''\n",
        "        name = 'Conv1D'\n",
        "    elif l._name.rfind('LSTM') >= 0:\n",
        "        marker = '>'\n",
        "        color = 'k'\n",
        "        ls = ''\n",
        "        name = 'LSTM'\n",
        "    elif l._name.rfind('bidir') >= 0:\n",
        "        marker = '><'\n",
        "        color = 'k'\n",
        "        ls = ''\n",
        "        name = 'Bidir(LSTM)'\n",
        "    elif l._name.rfind('time_distributed') >= 0:\n",
        "        marker = 'D'\n",
        "        color = 'k'\n",
        "        ls = ''\n",
        "        name = 'TimeDist(Dense)'\n",
        "    elif l._name.rfind('dropout') >= 0:\n",
        "        marker = '$D$'\n",
        "        color = 'gray'\n",
        "        ls = ''\n",
        "        name = 'Dropout'\n",
        "    elif l._name.rfind('batch_normalization') >= 0:\n",
        "        marker = '$N$'\n",
        "        color = 'gray'\n",
        "        ls = ''\n",
        "        name = 'BatchNorm'\n",
        "    elif l._name.rfind('activation') >= 0:\n",
        "        marker = 'X'\n",
        "        color = 'gray'\n",
        "        ls = ''\n",
        "        name = 'Activation(ReLu)'\n",
        "    else:\n",
        "        raise NotImplementedError\n",
        "        marker = '.'\n",
        "        color = 'gray'\n",
        "        ls = ''\n",
        "        name = 'none'\n",
        "    \n",
        "    # 'node' position along time axis\n",
        "    xpos = np.arange(n_samples) - (n_samples // 2)\n",
        "    ypos = np.zeros(n_samples) + i\n",
        "    \n",
        "    # draw vertices across layers\n",
        "    source_x = xpos\n",
        "    target_x = xpos\n",
        "    source_y = ypos\n",
        "    target_y = ypos + 1\n",
        "    for (sx, sy, tx, ty) in zip(source_x, source_y, target_x, target_y):\n",
        "        ax.plot([sx, tx], [sy, ty], '-', \n",
        "                color='gray', lw=0.5, zorder=-1, clip_on=False)\n",
        "    if name.rfind('LSTM') >= 0:\n",
        "        ax.plot([-n_samples/2, n_samples/2], [i, i], '-',\n",
        "                 color='gray', lw=0.5, zorder=-1, clip_on=False)\n",
        "    \n",
        "    if name in ['Input']:\n",
        "        for (sx, sy, tx, ty) in zip(source_x, source_y-1, target_x, target_y-1):\n",
        "            ax.plot([sx, tx], [sy, ty], '-', \n",
        "                    color='gray', lw=0.5, zorder=-1, clip_on=False)\n",
        "    \n",
        "    # draw horizontal box with width corresponding to # samples\n",
        "    if name in ['Input', 'Conv1D']:\n",
        "        if isinstance(l.input_shape, tuple):\n",
        "            for j in range(l.output_shape[-1]):\n",
        "                if j == 0:\n",
        "                    rect = plt.Rectangle((-(n_samples / 2) - 0.25, i-0.25), n_samples + 0.5, 0.5, \n",
        "                                         color=color, clip_on=False)\n",
        "                    ax.add_patch(rect)\n",
        "                else:\n",
        "                    rect = plt.Rectangle((-(n_samples / 2) - 0.25 + j*0.01, i-0.25+j*0.01), \n",
        "                                         n_samples + 0.5, 0.5, \n",
        "                                         zorder=-j,\n",
        "                                         ec='gray', fc='gray',\n",
        "                                         clip_on=False)\n",
        "                    ax.add_patch(rect)\n",
        "        else:\n",
        "            rect = plt.Rectangle((-(n_samples / 2) - 0.25, i-0.25), n_samples + 0.5, 0.5, \n",
        "                                 color=color, clip_on=False)\n",
        "            ax.add_patch(rect)\n",
        "    else:\n",
        "        if name in ['Bidir(LSTM)']:\n",
        "            for j in range(l.output_shape[-1] // 2):\n",
        "                if j == 0:\n",
        "                    colorj = color\n",
        "                else:\n",
        "                    colorj = 'gray'\n",
        "                ax.plot(xpos + j*0.01, ypos + j*0.01, \n",
        "                        ls=ls, color=colorj, marker=marker[0], ms=ms, zorder=-j, clip_on=False)\n",
        "                xy_offset = 0.25\n",
        "                ax.plot(xpos + xy_offset + j*0.01, ypos + xy_offset + j*0.01,\n",
        "                        ls=ls, color=colorj, marker=marker[1], ms=ms, zorder=-j, clip_on=False)\n",
        "            ax.plot([-n_samples / 2 + xy_offset, n_samples / 2 + xy_offset], \n",
        "                    [i + xy_offset, i + xy_offset], \n",
        "                    ls=':', color='gray', lw=0.5, zorder=-1, clip_on=False)\n",
        "            for (sx, sy) in zip(source_x + xy_offset, source_y):\n",
        "                ax.plot([sx, sx], [sy - 0.5 + xy_offset, sy + 0.5 + xy_offset], ':', \n",
        "                        color='gray', lw=0.5, zorder=-1, clip_on=False)\n",
        "        elif name in ['LSTM']:\n",
        "            for j in range(l.output_shape[-1] // 2):\n",
        "                if j > 0:\n",
        "                    color='gray'\n",
        "                ax.plot(xpos + j*0.01, ypos + j*0.01, \n",
        "                        ls=ls, color=color, marker=marker, ms=ms, zorder=-j, clip_on=False)\n",
        "        else:\n",
        "            ax.plot(xpos, ypos, \n",
        "                    ls=ls, color=color, marker=marker, ms=ms, clip_on=False)\n",
        "        \n",
        "    # layer names\n",
        "    if isinstance(l.input_shape, tuple):\n",
        "        ax.text(n_samples / 2 + 0.5 , i, \n",
        "                name + r'$^{(N,%s)}$' % (l.output_shape[-1]), \n",
        "                va='center', clip_on=False)\n",
        "    elif isinstance(l.input_shape, list):\n",
        "        ax.text(n_samples / 2 + 0.5, i, \n",
        "                name + r'$_{(N,%s)}^{(N,%s)}$' % (l.input_shape[0][-1], l.output_shape[0][-1]), \n",
        "                va='center', clip_on=False)\n",
        "\n",
        "# plot input/output prediction data labels\n",
        "for i in range(- (n_samples // 2), n_samples // 2 + 1):\n",
        "    if i < 0:\n",
        "        xstring = r'$X^{\\langle n-%s \\rangle}$' % str(abs(i))\n",
        "    elif i == 0:\n",
        "        xstring = r'$X^{\\langle n \\rangle}$'\n",
        "    else:\n",
        "        xstring = r'$X^{\\langle n+%s \\rangle}$' % str(i)\n",
        "    ystring = xstring.replace('X', '\\hat{y}')\n",
        "    \n",
        "    ax.text(i, -1, xstring, ha='center', va='center')\n",
        "    ax.text(i, len(model.layers), ystring, ha='center', va='center')\n",
        "\n",
        "# plot input LFP trace\n",
        "i = 0\n",
        "x_trace = X0_[i, ] - X0_[i, ].mean() - 2\n",
        "ax.plot(time / time.max() * (n_samples // 2 + 1), x_trace, 'k', lw=1, clip_on=False)\n",
        "ax.text((n_samples // 2 + 1), -2, r'$X(t)$')\n",
        "\n",
        "# plot output prediction\n",
        "y_hat = Y_cont_pred[:, inds[0]-lag:inds[0] + lag + 1, :].flatten()\n",
        "ax.plot(time / time.max() * (n_samples // 2 + 1), \n",
        "        y_hat + len(model.layers) + 1, 'k', lw=1, clip_on=False)\n",
        "ax.text((n_samples // 2 + 1), len(model.layers) + 1, r'$\\hat{y}(t)$')\n",
        "\n",
        "# detection threshold\n",
        "ax.plot([-2, 2], [len(model.layers) + 1.5]*2, '--', color='gray')\n",
        "ax.text(2, len(model.layers) + 1.5, 'threshold', va='center', color='gray')\n",
        "\n",
        "\n",
        "# additional lines\n",
        "for i in range(-(n_samples // 2), n_samples // 2 + 1):\n",
        "    ax.plot([time[lag + i] / time.max() * (n_samples // 2 + 1), i], [x_trace[lag + i], -1],\n",
        "            '-', color='gray', lw=0.5, zorder=-1)\n",
        "    ax.plot([time[lag + i] / time.max() * (n_samples // 2 + 1), i], \n",
        "            [y_hat[lag + i] + len(model.layers) + 1, len(model.layers)],\n",
        "            '-', color='gray', lw=0.5, zorder=-1)\n",
        "ax.set_xlim(-(n_samples / 2)-0.5, n_samples / 2 + 3)\n",
        "\n",
        "fig.savefig(os.path.join('figures', 'figure01.pdf'), \n",
        "            dpi=300, bbox_inches='tight', pad_inches=0.0)\n",
        "fig.savefig(os.path.join('figures', 'figure01.eps'), \n",
        "            dpi=300, bbox_inches='tight', pad_inches=0.0)"
      ],
      "execution_count": null,
      "outputs": []
    },
    {
      "cell_type": "code",
      "metadata": {
        "id": "OPtjonnl4cfQ"
      },
      "source": [
        ""
      ],
      "execution_count": null,
      "outputs": []
    }
  ]
}