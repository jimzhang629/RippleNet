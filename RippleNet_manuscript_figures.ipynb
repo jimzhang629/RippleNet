{
  "nbformat": 4,
  "nbformat_minor": 0,
  "metadata": {
    "accelerator": "GPU",
    "colab": {
      "name": "RippleNet_manuscript_figures.ipynb",
      "provenance": [],
      "collapsed_sections": [],
      "include_colab_link": true
    },
    "kernelspec": {
      "display_name": "Python 3",
      "language": "python",
      "name": "python3"
    },
    "language_info": {
      "codemirror_mode": {
        "name": "ipython",
        "version": 3
      },
      "file_extension": ".py",
      "mimetype": "text/x-python",
      "name": "python",
      "nbconvert_exporter": "python",
      "pygments_lexer": "ipython3",
      "version": "3.6.10"
    }
  },
  "cells": [
    {
      "cell_type": "markdown",
      "metadata": {
        "id": "view-in-github",
        "colab_type": "text"
      },
      "source": [
        "<a href=\"https://colab.research.google.com/github/jimzhang629/RippleNet/blob/master/RippleNet_manuscript_figures.ipynb\" target=\"_parent\"><img src=\"https://colab.research.google.com/assets/colab-badge.svg\" alt=\"Open In Colab\"/></a>"
      ]
    },
    {
      "cell_type": "markdown",
      "metadata": {
        "id": "TN9LZfZGIIhJ"
      },
      "source": [
        "# RippleNet_manuscript_figures\n",
        "Plotting codes for manuscript figures 2-7 in E. Hagen, A.R. Chambers, G.T. Einevoll, K.H.Pettersen, R. Enger and A.J. Stasik (2020). \n",
        "\n",
        "Author: Espen Hagen (<https://github.com/espenhgn>)\n",
        "\n",
        "LICENSE: <https://github.com/CINPLA/RippleNet/blob/master/LICENSE>"
      ]
    },
    {
      "cell_type": "code",
      "metadata": {
        "colab": {
          "base_uri": "https://localhost:8080/"
        },
        "id": "2nABtpVXIIhQ",
        "outputId": "988fef84-bbfe-4ef7-d833-eb3d83dea200"
      },
      "source": [
        "# allow running on Google Colab, using data on Google Drive\n",
        "try:\n",
        "    from google.colab import drive\n",
        "    drive.mount('/content/gdrive')\n",
        "    %cd gdrive/My\\ Drive/RippleNet\n",
        "    %tensorflow_version 2.x\n",
        "except:\n",
        "    pass"
      ],
      "execution_count": 1,
      "outputs": [
        {
          "output_type": "stream",
          "text": [
            "Mounted at /content/gdrive\n",
            "/content/gdrive/My Drive/RippleNet\n"
          ],
          "name": "stdout"
        }
      ]
    },
    {
      "cell_type": "code",
      "metadata": {
        "id": "BuiiSuJNIIha"
      },
      "source": [
        "%matplotlib inline"
      ],
      "execution_count": 2,
      "outputs": []
    },
    {
      "cell_type": "code",
      "metadata": {
        "id": "NA2x5a3LIIhf"
      },
      "source": [
        "import os\n",
        "import numpy as np\n",
        "import scipy.signal as ss\n",
        "import matplotlib.pyplot as plt\n",
        "from matplotlib.gridspec import GridSpec\n",
        "import tensorflow\n",
        "from tensorflow import keras\n",
        "import h5py\n",
        "from glob import glob\n",
        "import pandas as pd\n",
        "import pickle\n",
        "from matplotlib import colors\n",
        "from ripplenet.common import *"
      ],
      "execution_count": 4,
      "outputs": []
    },
    {
      "cell_type": "code",
      "metadata": {
        "id": "AqsY0HUqABCS"
      },
      "source": [
        "# make figures appear consistent across plots/notebooks\n",
        "plt.rcParams.update(rcParams)"
      ],
      "execution_count": 5,
      "outputs": []
    },
    {
      "cell_type": "code",
      "metadata": {
        "id": "1ayiW8Zxghi5"
      },
      "source": [
        "# pandas print precision\n",
        "pd.set_option('precision', 3)"
      ],
      "execution_count": 6,
      "outputs": []
    },
    {
      "cell_type": "code",
      "metadata": {
        "id": "oywNsD3eIIhr"
      },
      "source": [
        "# set random seeds\n",
        "np.random.seed(1478)\n",
        "tensorflow.random.set_seed(14785)"
      ],
      "execution_count": 9,
      "outputs": []
    },
    {
      "cell_type": "code",
      "metadata": {
        "id": "s79ZchGO0yU_"
      },
      "source": [
        "# create folder for figure files\n",
        "if not os.path.isdir('figures'):\n",
        "    os.mkdir('figures')"
      ],
      "execution_count": 8,
      "outputs": []
    },
    {
      "cell_type": "markdown",
      "metadata": {
        "id": "Eju_xMdt0uOt"
      },
      "source": [
        "# load validation data"
      ]
    },
    {
      "cell_type": "code",
      "metadata": {
        "id": "K7Ec-Cv0k4z_"
      },
      "source": [
        "# select species for validation stats (mouse, rat or both)\n",
        "mouse = True\n",
        "rat = False\n",
        "\n",
        "# data string\n",
        "dataset = 'validation'"
      ],
      "execution_count": 10,
      "outputs": []
    },
    {
      "cell_type": "code",
      "metadata": {
        "id": "MAq_5P6r0uOx"
      },
      "source": [
        "# select dataset (may have generated different sets.)\n",
        "dataset_index = 0 "
      ],
      "execution_count": 11,
      "outputs": []
    },
    {
      "cell_type": "code",
      "metadata": {
        "id": "YFGAXgY8IIh0"
      },
      "source": [
        "if mouse:\n",
        "    # load mouse validation datas with labels\n",
        "    f = h5py.File(os.path.join('data', '{}_{:02}.h5'.format(dataset, dataset_index)), 'r')\n",
        "    X0 = f['X0'][:] # Raw LFP segments\n",
        "    X1 = f['X1'][:] # Band-pass filtered LFP segments\n",
        "    S = f['S'][:] # Wavelet spectrograms\n",
        "    Y = f['Y'][:] # Numeric labels array\n",
        "    labels = f['labels'][:]\n",
        "    all_labels = f['all_labels'][:]\n",
        "    S_freqs = f['S_freqs'][:]\n",
        "    f.close()\n",
        "\n",
        "    # fix dimensionality for test set\n",
        "    X_val = np.expand_dims(X0, -1)\n",
        "    Y_val = Y\n",
        "\n",
        "    # center raw data (only used for visualization)\n",
        "    X0 = (X0.T - X0.mean(axis=-1)).T\n",
        "\n",
        "    train_first_dim = int(4175*1250 / 10)\n",
        "    val_first_dim = int(200*1250 / 10)\n",
        "\n",
        "    reshaped_X_val = np.reshape(X_val, (val_first_dim, 10, 1)) #reshape so that each segment of data is only about 10ms long, instead of 1 second\n",
        "    reshaped_Y_val = np.reshape(Y_val, (val_first_dim, 10, 1))\n",
        "    reshaped_X0 = np.reshape(X0, (val_first_dim, 10))\n",
        "    reshaped_X1 = np.reshape(X1, (val_first_dim, 10))\n",
        "    reshaped_S = np.reshape(S, (val_first_dim, 10, 16))\n",
        "    reshaped_Y = np.reshape(Y, (val_first_dim, 10, 1))\n",
        "\n",
        "  "
      ],
      "execution_count": 59,
      "outputs": []
    },
    {
      "cell_type": "code",
      "metadata": {
        "id": "xSLxuxoJ2ypn"
      },
      "source": [
        "if mouse and rat:\n",
        "    # load test datas with labels\n",
        "    f = h5py.File(os.path.join('data', '{}_tingley_{:02}.h5'.format(dataset, dataset_index)), 'r')\n",
        "\n",
        "    X_val = np.concatenate((X_val, np.expand_dims(f['X0'][:], -1)))\n",
        "    Y_val = np.concatenate((Y_val, f['Y'][:]))\n",
        "\n",
        "    X0 = np.concatenate((X0, f['X0'][:])) # Raw LFP segments\n",
        "    X1 = np.concatenate((X1, f['X1'][:])) # Band-pass filtered LFP segments\n",
        "    S = np.concatenate((S, f['S'][:])) # Wavelet spectrograms\n",
        "    Y = np.concatenate((Y, f['Y'][:])) # Numeric labels array\n",
        "    labels = np.concatenate((labels, f['labels'][:]))\n",
        "    all_labels = np.concatenate((all_labels, f['all_labels'][:]))\n",
        "    f.close()\n",
        "\n",
        "    # center raw data (only used for visualization)\n",
        "    X0 = (X0.T - X0.mean(axis=-1)).T "
      ],
      "execution_count": null,
      "outputs": []
    },
    {
      "cell_type": "code",
      "metadata": {
        "id": "rsY-J1Ykli0d"
      },
      "source": [
        "if rat and not mouse:\n",
        "    # load test datas with labels\n",
        "    f = h5py.File(os.path.join('data', '{}_tingley_{:02}.h5'.format(dataset, dataset_index)), 'r')\n",
        "    \n",
        "    X0 = f['X0'][:] # Raw LFP segments\n",
        "    X1 = f['X1'][:] # Band-pass filtered LFP segments\n",
        "    S = f['S'][:] # Wavelet spectrograms\n",
        "    Y = f['Y'][:] # Numeric labels array\n",
        "    labels = f['labels'][:]\n",
        "    all_labels = f['all_labels'][:]\n",
        "    S_freqs = f['S_freqs'][:]\n",
        "    f.close()\n",
        "\n",
        "    # fix dimensionality for test set\n",
        "    X_val = np.expand_dims(X0, -1)\n",
        "    Y_val = Y\n",
        "\n",
        "    # center raw data (only used for visualization)\n",
        "    X0 = (X0.T - X0.mean(axis=-1)).T"
      ],
      "execution_count": null,
      "outputs": []
    },
    {
      "cell_type": "code",
      "metadata": {
        "colab": {
          "base_uri": "https://localhost:8080/"
        },
        "id": "ScDBJ6DqIIiD",
        "outputId": "5cc95aec-bed6-45c7-e48a-dead1b4c8bfb"
      },
      "source": [
        "# shapes of validation input/output\n",
        "reshaped_X_val.shape, reshaped_Y_val.shape"
      ],
      "execution_count": 60,
      "outputs": [
        {
          "output_type": "execute_result",
          "data": {
            "text/plain": [
              "((25000, 10, 1), (25000, 10, 1))"
            ]
          },
          "metadata": {
            "tags": []
          },
          "execution_count": 60
        }
      ]
    },
    {
      "cell_type": "code",
      "metadata": {
        "id": "OcRNLwWDIIiS",
        "colab": {
          "base_uri": "https://localhost:8080/"
        },
        "outputId": "2f3d532d-0501-4b37-c956-19230cd7c73c"
      },
      "source": [
        "# some needed parameters\n",
        "n_samples = reshaped_X0.shape[0] # total number of samples\n",
        "Fs = 1250 # Hz, sampling freq\n",
        "time = np.arange(reshaped_X0.shape[1]) / Fs\n",
        "print(time)"
      ],
      "execution_count": 65,
      "outputs": [
        {
          "output_type": "stream",
          "text": [
            "[0.     0.0008 0.0016 0.0024 0.0032 0.004  0.0048 0.0056 0.0064 0.0072]\n"
          ],
          "name": "stdout"
        }
      ]
    },
    {
      "cell_type": "code",
      "metadata": {
        "id": "vOOl4zttbOLD"
      },
      "source": [
        "# width of boxcar around each labeled event\n",
        "y_label_width = int(50 * Fs / 10) # 50 ms @ Fs #changed this from 1000 to 10"
      ],
      "execution_count": 66,
      "outputs": []
    },
    {
      "cell_type": "code",
      "metadata": {
        "id": "HqXxFdGBIIie"
      },
      "source": [
        "# default settings for detecting event from predictions\n",
        "threshold = 0.5\n",
        "distance = int(50 * Fs / 10) # ms @ Fs, peak interdistance (was 1000 by default but I changed it to 10 cuz our data smaller. Prob not actually 10 though.)\n",
        "width = int(20 * Fs / 10) # ms @ Fs, peak width (also changed from 1000 to 10. Probably more like 13? Idk.)"
      ],
      "execution_count": 67,
      "outputs": []
    },
    {
      "cell_type": "markdown",
      "metadata": {
        "id": "cuLrEgSVIIjG"
      },
      "source": [
        "## Figure 3:"
      ]
    },
    {
      "cell_type": "code",
      "metadata": {
        "colab": {
          "base_uri": "https://localhost:8080/",
          "height": 695
        },
        "id": "zMzkbBQKIIjI",
        "outputId": "4706e2d4-74bb-4baf-ef9f-2815ae988cd7"
      },
      "source": [
        "ncols = 4 # number of columns (validation samples) in plot\n",
        "\n",
        "fig, axes = plt.subplots(3, ncols, figsize=(12, 7), sharey='row', sharex=True)\n",
        "fig.subplots_adjust(wspace=0.1, hspace=0.2, left=0.05, right=0.95, top=0.95, bottom=0.1)\n",
        "\n",
        "for i in range(ncols):\n",
        "    # raw LFP with ripple label\n",
        "    ax0 = axes[0, i]\n",
        "    ax0.plot(time, reshaped_X_val[i, ] - reshaped_X_val[i, ].mean(), 'k', lw=0.5,  \n",
        "             label='__nolabel__'\n",
        "             #label=r'$X^{\\langle' + '{}'.format(i+1) + r'\\rangle}(t)$',\n",
        "            )\n",
        "    \n",
        "    idx = all_labels['session'] == labels['session'][i]\n",
        "    lbls = all_labels['rippleLocs'][idx] - labels[i]['rippleLocs'] - labels[i]['offset']\n",
        "    inds = lbls[(lbls >= 0) & (lbls < Fs)]\n",
        "    ax0.plot(time[inds], reshaped_X_val[i, inds] - reshaped_X_val[i, ].mean() + 0.4, \n",
        "             'D', mec='k', mfc='w', ms=8, label='SPW-R',\n",
        "             clip_on=False)\n",
        "    ax0.set_title(r'$X^{\\langle' + '{}'.format(i+1) + r'\\rangle}(t)$')\n",
        "    if i == 0:\n",
        "        ax0.set_ylabel('(mV)', labelpad=0)\n",
        "    if i == ncols - 1:\n",
        "        ax0.legend(loc=(0.95, 0.2), frameon=False, handletextpad=0)\n",
        "    ax0.axis(ax0.axis('tight'))\n",
        "    for spine in ['top', 'bottom', 'right']:\n",
        "        ax0.spines[spine].set_visible(False)\n",
        "    plt.setp(ax0.get_xticklabels(), visible=False)\n",
        "    ax0.xaxis.set_ticks_position('none')    \n",
        "    \n",
        "\n",
        "    # band-pass filtered LFP\n",
        "    ax1 = axes[1, i]\n",
        "    ax1.plot(time, X1[i, ], 'k', lw=0.5, label=r'$\\phi_\\mathrm{BP}(t)$')\n",
        "    ax1.set_title(r'$\\phi_\\mathrm{BP}^{\\langle' + '{}'.format(i+1) + r'\\rangle}(t)$')\n",
        "    ax1.axis(ax1.axis('tight'))\n",
        "    if i == 0:\n",
        "        ax1.set_ylabel('(mV)', labelpad=0)\n",
        "    for spine in ['top', 'bottom', 'right']:\n",
        "        ax1.spines[spine].set_visible(False)\n",
        "    plt.setp(ax1.get_xticklabels(), visible=False)\n",
        "    ax1.xaxis.set_ticks_position('none')    \n",
        "    \n",
        "    \n",
        "    # Spectrograms\n",
        "    ax2 = axes[2, i]\n",
        "\n",
        "    vmin, vmax = np.exp(np.percentile(np.log(S), [1, 99]))\n",
        "    im = ax2.pcolormesh(time, S_freqs, S[i, ].T, \n",
        "                        norm=colors.LogNorm(vmin=vmin, vmax=vmax),\n",
        "                        cmap='inferno',\n",
        "                        label='spectrogram',\n",
        "                        rasterized=True)\n",
        "    if i == ncols-1:\n",
        "        rect = np.array(ax2.get_position().bounds)\n",
        "        rect[0] += rect[2] + 0.01\n",
        "        rect[2] = 0.01\n",
        "        fig = plt.gcf()\n",
        "        cax = fig.add_axes(rect)\n",
        "        \n",
        "        cbar = fig.colorbar(im, cax=cax, extend='both')\n",
        "        cbar.set_ticks(10.**np.arange(-5, 5))\n",
        "        cbar.set_label('(a.u.)', labelpad=0)\n",
        "    ax2.axis(ax2.axis('tight'))\n",
        "    if i == 0:\n",
        "        ax2.set_ylabel('$f$ (Hz)', labelpad=0)\n",
        "    ax2.set_xlabel('$t$ (s)', labelpad=0)\n",
        "    ax2.set_title(r'$S^{\\langle' + '{}'.format(i+1) + r'\\rangle}(t,f)$')\n",
        "    if i == 0:\n",
        "        annotate_subplot(ax0, ncols=10, nrows=3, letter='a')\n",
        "        annotate_subplot(ax1, ncols=10, nrows=3, letter='b')\n",
        "        annotate_subplot(ax2, ncols=10, nrows=3, letter='c')\n",
        "\n",
        "# save figure\n",
        "fig.savefig(os.path.join('figures', 'figure03.pdf'), dpi=300, bbox_inches='tight', pad_inches=0.05)\n",
        "fig.savefig(os.path.join('figures', 'figure03.eps'), dpi=300, bbox_inches='tight', pad_inches=0.05)"
      ],
      "execution_count": 71,
      "outputs": [
        {
          "output_type": "error",
          "ename": "IndexError",
          "evalue": "ignored",
          "traceback": [
            "\u001b[0;31m---------------------------------------------------------------------------\u001b[0m",
            "\u001b[0;31mIndexError\u001b[0m                                Traceback (most recent call last)",
            "\u001b[0;32m<ipython-input-71-8a90c5138477>\u001b[0m in \u001b[0;36m<module>\u001b[0;34m()\u001b[0m\n\u001b[1;32m     15\u001b[0m     \u001b[0mlbls\u001b[0m \u001b[0;34m=\u001b[0m \u001b[0mall_labels\u001b[0m\u001b[0;34m[\u001b[0m\u001b[0;34m'rippleLocs'\u001b[0m\u001b[0;34m]\u001b[0m\u001b[0;34m[\u001b[0m\u001b[0midx\u001b[0m\u001b[0;34m]\u001b[0m \u001b[0;34m-\u001b[0m \u001b[0mlabels\u001b[0m\u001b[0;34m[\u001b[0m\u001b[0mi\u001b[0m\u001b[0;34m]\u001b[0m\u001b[0;34m[\u001b[0m\u001b[0;34m'rippleLocs'\u001b[0m\u001b[0;34m]\u001b[0m \u001b[0;34m-\u001b[0m \u001b[0mlabels\u001b[0m\u001b[0;34m[\u001b[0m\u001b[0mi\u001b[0m\u001b[0;34m]\u001b[0m\u001b[0;34m[\u001b[0m\u001b[0;34m'offset'\u001b[0m\u001b[0;34m]\u001b[0m\u001b[0;34m\u001b[0m\u001b[0;34m\u001b[0m\u001b[0m\n\u001b[1;32m     16\u001b[0m     \u001b[0minds\u001b[0m \u001b[0;34m=\u001b[0m \u001b[0mlbls\u001b[0m\u001b[0;34m[\u001b[0m\u001b[0;34m(\u001b[0m\u001b[0mlbls\u001b[0m \u001b[0;34m>=\u001b[0m \u001b[0;36m0\u001b[0m\u001b[0;34m)\u001b[0m \u001b[0;34m&\u001b[0m \u001b[0;34m(\u001b[0m\u001b[0mlbls\u001b[0m \u001b[0;34m<\u001b[0m \u001b[0mFs\u001b[0m\u001b[0;34m)\u001b[0m\u001b[0;34m]\u001b[0m\u001b[0;34m\u001b[0m\u001b[0;34m\u001b[0m\u001b[0m\n\u001b[0;32m---> 17\u001b[0;31m     ax0.plot(time[inds], reshaped_X_val[i, inds] - reshaped_X_val[i, ].mean() + 0.4, \n\u001b[0m\u001b[1;32m     18\u001b[0m              \u001b[0;34m'D'\u001b[0m\u001b[0;34m,\u001b[0m \u001b[0mmec\u001b[0m\u001b[0;34m=\u001b[0m\u001b[0;34m'k'\u001b[0m\u001b[0;34m,\u001b[0m \u001b[0mmfc\u001b[0m\u001b[0;34m=\u001b[0m\u001b[0;34m'w'\u001b[0m\u001b[0;34m,\u001b[0m \u001b[0mms\u001b[0m\u001b[0;34m=\u001b[0m\u001b[0;36m8\u001b[0m\u001b[0;34m,\u001b[0m \u001b[0mlabel\u001b[0m\u001b[0;34m=\u001b[0m\u001b[0;34m'SPW-R'\u001b[0m\u001b[0;34m,\u001b[0m\u001b[0;34m\u001b[0m\u001b[0;34m\u001b[0m\u001b[0m\n\u001b[1;32m     19\u001b[0m              clip_on=False)\n",
            "\u001b[0;31mIndexError\u001b[0m: index 95 is out of bounds for axis 0 with size 10"
          ]
        },
        {
          "output_type": "display_data",
          "data": {
            "image/png": "[encoded data removed]",
            "text/plain": [
              "<Figure size 864x504 with 12 Axes>"
            ]
          },
          "metadata": {
            "tags": [],
            "needs_background": "light"
          }
        }
      ]
    },
    {
      "cell_type": "markdown",
      "metadata": {
        "id": "ceu53YkUIIjS"
      },
      "source": [
        "## load trained networks"
      ]
    },
    {
      "cell_type": "code",
      "metadata": {
        "id": "jpgrZRpJIIjZ"
      },
      "source": [
        "# choose the epoch giving the best performance on validation set, or last training epoch\n",
        "best = '' #'best_' or '' \n",
        "\n",
        "model_files = [\n",
        "    #os.path.join('trained_networks', 'slicednetworkbestrandomseed_190.h5'.format(best)),\n",
        "    os.path.join('trained_networks', 'ripplenet_unidirectional_{}random_seed200.h5'.format(best)),\n",
        "    #os.path.join('trained_networks', 'ripplenet_unidirectional_{}random_seed789.h5'.format(best)),\n",
        "\n",
        "    #os.path.join('trained_networks', 'ripplenet_bidirectional_{}random_seed123.h5'.format(best)),\n",
        "    #os.path.join('trained_networks', 'ripplenet_bidirectional_{}random_seed456.h5'.format(best)),\n",
        "    #os.path.join('trained_networks', 'ripplenet_bidirectional_{}random_seed789.h5'.format(best)),\n",
        "]\n",
        "losses_files = [\n",
        "    #os.path.join('trained_networks', 'slicednetworkrandomseed_190.pkl'),\n",
        "    os.path.join('trained_networks', 'ripplenet_unidirectional_history_random_seed200.pkl'),\n",
        "    #os.path.join('trained_networks', 'ripplenet_unidirectional_history_random_seed789.pkl'),\n",
        "\n",
        "    #os.path.join('trained_networks', 'ripplenet_bidirectional_history_random_seed123.pkl'),\n",
        "    #os.path.join('trained_networks', 'ripplenet_bidirectional_history_random_seed456.pkl'),\n",
        "    #os.path.join('trained_networks', 'ripplenet_bidirectional_history_random_seed789.pkl'),\n",
        "]"
      ],
      "execution_count": 72,
      "outputs": []
    },
    {
      "cell_type": "code",
      "metadata": {
        "colab": {
          "base_uri": "https://localhost:8080/"
        },
        "id": "x8G-R5_ZIIjc",
        "scrolled": true,
        "outputId": "7ddb7abb-30ac-4aee-dee3-ca0186c080b6"
      },
      "source": [
        "model_files, losses_files"
      ],
      "execution_count": 73,
      "outputs": [
        {
          "output_type": "execute_result",
          "data": {
            "text/plain": [
              "(['trained_networks/ripplenet_unidirectional_random_seed200.h5'],\n",
              " ['trained_networks/ripplenet_unidirectional_history_random_seed200.pkl'])"
            ]
          },
          "metadata": {
            "tags": []
          },
          "execution_count": 73
        }
      ]
    },
    {
      "cell_type": "code",
      "metadata": {
        "id": "IAWUygqmIIjh"
      },
      "source": [
        "# fill up models and losses containers\n",
        "models = []\n",
        "losses = []\n",
        "for i, (mf, pf) in enumerate(zip(model_files, losses_files)):\n",
        "    models.append(keras.models.load_model(mf))\n",
        "    with open(pf, 'rb') as f:\n",
        "        losses.append(pickle.load(f))"
      ],
      "execution_count": 74,
      "outputs": []
    },
    {
      "cell_type": "code",
      "metadata": {
        "id": "uXKx7z2dIIjr"
      },
      "source": [
        "# run predictions using all models on the same test set\n",
        "Y_preds = []\n",
        "for model in models:\n",
        "    Y_preds.append(model.predict(reshaped_X_val))"
      ],
      "execution_count": 75,
      "outputs": []
    },
    {
      "cell_type": "markdown",
      "metadata": {
        "id": "ddUGHUuFIIj3"
      },
      "source": [
        "## figure 5\n",
        "Visually compare predictions `hat{y}(t)` vs. `y` for samples in figure 1 using different trained networks"
      ]
    },
    {
      "cell_type": "code",
      "metadata": {
        "id": "2P-zixp5IIj5",
        "colab": {
          "base_uri": "https://localhost:8080/",
          "height": 331
        },
        "outputId": "1d31e133-6bf5-4938-efc1-498d9399b8c1"
      },
      "source": [
        "fig = plt.figure(figsize=(12, len(models)+3))\n",
        "gs = GridSpec(2+len(models), ncols, wspace=0.4, hspace=0.4, left=0.05, right=0.95, top=0.95, bottom=0.1)\n",
        "\n",
        "for i in range(ncols):\n",
        "    # raw LFP with ripple label\n",
        "    if i == 0:\n",
        "        ax0 = fig.add_subplot(gs[0, i])\n",
        "    else:\n",
        "        ax0 = fig.add_subplot(gs[0, i], sharey=ax0)\n",
        "    ax0.plot(time, reshaped_X_val[i, ] - reshaped_X_val[i, ].mean(), 'k', lw=0.5,  \n",
        "             label='__nolabel__')\n",
        "    idx = all_labels['session'] == labels['session'][i]\n",
        "    lbls = all_labels['rippleLocs'][idx] - labels[i]['rippleLocs'] - labels[i]['offset']\n",
        "    inds = lbls[(lbls >= 0) & (lbls < Fs)]\n",
        "    ax0.plot(time[inds], reshaped_X_val[i, inds] - reshaped_X_val[i, ].mean() + 0.4, \n",
        "             'D', mec='k', mfc='w', ms=8, label='SPW-R', clip_on=False)\n",
        "\n",
        "    ax0.set_title(r'$X^{\\langle' + '{}'.format(i+1) + r'\\rangle}(t)$')\n",
        "    if i == 0:\n",
        "        ax0.set_ylabel('(mV)', labelpad=0)\n",
        "    if i == ncols - 1:\n",
        "        ax0.legend(loc=(0.95, 0.2), frameon=False, handletextpad=0)\n",
        "    ax0.axis(ax0.axis('tight'))\n",
        "    if i > 0:\n",
        "        plt.setp(ax0.get_yticklabels(), visible=False)\n",
        "    for spine in ['top', 'bottom', 'right']:\n",
        "        ax0.spines[spine].set_visible(False)\n",
        "    plt.setp(ax0.get_xticklabels(), visible=False)\n",
        "    ax0.xaxis.set_ticks_position('none')    \n",
        "\n",
        "    # label vector\n",
        "    ax1 = fig.add_subplot(gs[1, i], sharex=ax0)\n",
        "    ax1.plot(time, reshaped_Y_val[i, ], 'k', lw=0.5, clip_on=False)\n",
        "    ax1.text(time[0]-0.1, 0.5, r'$y^{\\langle' + '{}'.format(i+1) + r'\\rangle}(t)$', ha='right', va='center')\n",
        "    ax1.axis(ax1.axis('tight'))\n",
        "    ax1.set_ylim(0, 1)\n",
        "    ax1.set_yticks([0, 1])\n",
        "    if i > 0:\n",
        "        ax1.set_yticklabels([])\n",
        "    for spine in ['top', 'bottom', 'right']:\n",
        "        ax1.spines[spine].set_visible(False)\n",
        "    plt.setp(ax1.get_xticklabels(), visible=False)\n",
        "    ax1.xaxis.set_ticks_position('none')\n",
        "\n",
        "    if i == 0:\n",
        "        annotate_subplot(ax0, ncols=12, nrows=2+len(models), letter='a')\n",
        "        annotate_subplot(ax1, ncols=12, nrows=2+len(models), letter='b')\n",
        "\n",
        "    last_variant = None\n",
        "    k = 0\n",
        "    # show prediction for every model, with asterisks for predicted events\n",
        "    for j, (Y_pred, f) in enumerate(zip(Y_preds, model_files)):\n",
        "        variant = os.path.split(f)[1].split('_')[1]\n",
        "        \n",
        "        # find times of local peaks above threshold\n",
        "        y = Y_pred[i, :, 0]\n",
        "        peaks, props = ss.find_peaks(y, height=threshold, distance=distance, width=width)\n",
        "        \n",
        "        ax = fig.add_subplot(gs[j+2, i], sharex=ax0)  \n",
        "        ax.plot(time, y, 'k', lw=0.5, clip_on=False)\n",
        "        ax.text(time[0]-0.1, 0.5, \n",
        "                r'$\\hat{y}_\\mathrm{M' + '{}'.format(j+1) + '}^{\\langle' + '{}'.format(i+1) + r'\\rangle}(t)$', \n",
        "                ha='right', va='center')\n",
        "        ax.plot(time[peaks], y[peaks]+.1, 'D', mec='k', mfc='gray', ms=8, clip_on=False)            \n",
        "        if j == len(Y_preds)-1:\n",
        "            ax.plot([0.8, 0.9], [-0.05, -0.05], 'k-', lw=1, clip_on=False)\n",
        "            ax.text(0.85, -0.1, '100 ms', va='top', ha='center')\n",
        "        ax.set_ylim(0, 1)\n",
        "        ax.set_xlim(time[0], time[-1])\n",
        "        ax.set_yticks([0, 1])\n",
        "        if i > 0:\n",
        "            ax.set_yticklabels([])\n",
        "        for spine in ['top', 'bottom', 'right']:\n",
        "            ax.spines[spine].set_visible(False)\n",
        "        plt.setp(ax.get_xticklabels(), visible=False)\n",
        "        ax.xaxis.set_ticks_position('none')\n",
        "        \n",
        "        if (i==0) & (variant != last_variant):\n",
        "            annotate_subplot(ax, ncols=12, nrows=2+len(models), letter='cdefghijklmnopqrstuvwxyz'[k])\n",
        "            k += 1\n",
        "        last_variant = variant\n",
        "\n",
        "# save figure\n",
        "fig.savefig(os.path.join('figures', 'figure05.pdf'), dpi=300, bbox_inches='tight', pad_inches=0.05)\n",
        "fig.savefig(os.path.join('figures', 'figure05.eps'), dpi=300, bbox_inches='tight', pad_inches=0.05)"
      ],
      "execution_count": 76,
      "outputs": [
        {
          "output_type": "error",
          "ename": "IndexError",
          "evalue": "ignored",
          "traceback": [
            "\u001b[0;31m---------------------------------------------------------------------------\u001b[0m",
            "\u001b[0;31mIndexError\u001b[0m                                Traceback (most recent call last)",
            "\u001b[0;32m<ipython-input-76-d6f91ddfc6f4>\u001b[0m in \u001b[0;36m<module>\u001b[0;34m()\u001b[0m\n\u001b[1;32m     13\u001b[0m     \u001b[0mlbls\u001b[0m \u001b[0;34m=\u001b[0m \u001b[0mall_labels\u001b[0m\u001b[0;34m[\u001b[0m\u001b[0;34m'rippleLocs'\u001b[0m\u001b[0;34m]\u001b[0m\u001b[0;34m[\u001b[0m\u001b[0midx\u001b[0m\u001b[0;34m]\u001b[0m \u001b[0;34m-\u001b[0m \u001b[0mlabels\u001b[0m\u001b[0;34m[\u001b[0m\u001b[0mi\u001b[0m\u001b[0;34m]\u001b[0m\u001b[0;34m[\u001b[0m\u001b[0;34m'rippleLocs'\u001b[0m\u001b[0;34m]\u001b[0m \u001b[0;34m-\u001b[0m \u001b[0mlabels\u001b[0m\u001b[0;34m[\u001b[0m\u001b[0mi\u001b[0m\u001b[0;34m]\u001b[0m\u001b[0;34m[\u001b[0m\u001b[0;34m'offset'\u001b[0m\u001b[0;34m]\u001b[0m\u001b[0;34m\u001b[0m\u001b[0;34m\u001b[0m\u001b[0m\n\u001b[1;32m     14\u001b[0m     \u001b[0minds\u001b[0m \u001b[0;34m=\u001b[0m \u001b[0mlbls\u001b[0m\u001b[0;34m[\u001b[0m\u001b[0;34m(\u001b[0m\u001b[0mlbls\u001b[0m \u001b[0;34m>=\u001b[0m \u001b[0;36m0\u001b[0m\u001b[0;34m)\u001b[0m \u001b[0;34m&\u001b[0m \u001b[0;34m(\u001b[0m\u001b[0mlbls\u001b[0m \u001b[0;34m<\u001b[0m \u001b[0mFs\u001b[0m\u001b[0;34m)\u001b[0m\u001b[0;34m]\u001b[0m\u001b[0;34m\u001b[0m\u001b[0;34m\u001b[0m\u001b[0m\n\u001b[0;32m---> 15\u001b[0;31m     ax0.plot(time[inds], reshaped_X_val[i, inds] - reshaped_X_val[i, ].mean() + 0.4, \n\u001b[0m\u001b[1;32m     16\u001b[0m              'D', mec='k', mfc='w', ms=8, label='SPW-R', clip_on=False)\n\u001b[1;32m     17\u001b[0m \u001b[0;34m\u001b[0m\u001b[0m\n",
            "\u001b[0;31mIndexError\u001b[0m: index 95 is out of bounds for axis 0 with size 10"
          ]
        },
        {
          "output_type": "display_data",
          "data": {
            "image/png": "[encoded data removed]",
            "text/plain": [
              "<Figure size 864x288 with 1 Axes>"
            ]
          },
          "metadata": {
            "tags": [],
            "needs_background": "light"
          }
        }
      ]
    },
    {
      "cell_type": "markdown",
      "metadata": {
        "id": "E_QYVXf-IIkI"
      },
      "source": [
        "# Quantify performance\n",
        "Accuracy measures:\n",
        "```\n",
        "# Accuracy = (TP + TN) / (TP + TN + FP + FN) # can't quantify count of TN\n",
        "Precision = TP / (TP + FP)\n",
        "Recall = TP / (TP + FN)\n",
        "F1 = 2 / (Precision^-1 + Recall^-1)\n",
        "```"
      ]
    },
    {
      "cell_type": "code",
      "metadata": {
        "id": "imTCEdV5IIkN",
        "colab": {
          "base_uri": "https://localhost:8080/",
          "height": 375
        },
        "outputId": "284b9daa-ae33-4a03-ce65-41c2a825a305"
      },
      "source": [
        "# container for stats\n",
        "df = pd.DataFrame(columns=['Variant', 'Model', 'TP', 'FP', 'FN', 'FP+FN', 'Precision', 'Recall', 'F_1'], \n",
        "                  dtype='object')\n",
        "\n",
        "# iterate over models\n",
        "for i, (Y_pred, f) in enumerate(zip(Y_preds, model_files)):\n",
        "    variant = os.path.split(f)[1].split('_')[1]\n",
        "    variant = variant.replace('directional', 'dir.')\n",
        "    \n",
        "    # get metrics\n",
        "    TP, FP, FN, precision, recall, F1 = get_metrics(X_val, Y_val, Y_pred, labels, all_labels,\n",
        "                                                    threshold, distance, width,\n",
        "                                                    y_label_width=y_label_width, Fs=Fs)    \n",
        "    \n",
        "    # fill in dataframe\n",
        "    row_df = pd.DataFrame([[variant, i+1, TP, FP, FN, FP+FN, precision, recall, F1]],\n",
        "                          columns=['Variant', 'Model', 'TP', 'FP', 'FN', 'FP+FN', 'Precision', 'Recall', 'F_1'], \n",
        "                          dtype='object')\n",
        "    \n",
        "    df = pd.concat([df, row_df], axis=0, ignore_index=True)\n",
        "\n",
        "# display dataframe\n",
        "df"
      ],
      "execution_count": 26,
      "outputs": [
        {
          "output_type": "error",
          "ename": "IndexError",
          "evalue": "ignored",
          "traceback": [
            "\u001b[0;31m---------------------------------------------------------------------------\u001b[0m",
            "\u001b[0;31mIndexError\u001b[0m                                Traceback (most recent call last)",
            "\u001b[0;32m<ipython-input-26-102e619890a5>\u001b[0m in \u001b[0;36m<module>\u001b[0;34m()\u001b[0m\n\u001b[1;32m     11\u001b[0m     TP, FP, FN, precision, recall, F1 = get_metrics(X_val, Y_val, Y_pred, labels, all_labels,\n\u001b[1;32m     12\u001b[0m                                                     \u001b[0mthreshold\u001b[0m\u001b[0;34m,\u001b[0m \u001b[0mdistance\u001b[0m\u001b[0;34m,\u001b[0m \u001b[0mwidth\u001b[0m\u001b[0;34m,\u001b[0m\u001b[0;34m\u001b[0m\u001b[0;34m\u001b[0m\u001b[0m\n\u001b[0;32m---> 13\u001b[0;31m                                                     y_label_width=y_label_width, Fs=Fs)    \n\u001b[0m\u001b[1;32m     14\u001b[0m \u001b[0;34m\u001b[0m\u001b[0m\n\u001b[1;32m     15\u001b[0m     \u001b[0;31m# fill in dataframe\u001b[0m\u001b[0;34m\u001b[0m\u001b[0;34m\u001b[0m\u001b[0;34m\u001b[0m\u001b[0m\n",
            "\u001b[0;32m/content/gdrive/My Drive/RippleNet/ripplenet/common.py\u001b[0m in \u001b[0;36mget_metrics\u001b[0;34m(X, Y, Y_pred, labels, all_labels, threshold, distance, width, y_label_width, Fs, decimals)\u001b[0m\n\u001b[1;32m    107\u001b[0m             \u001b[0;31m# no event was predicted, so all labeled event times are\u001b[0m\u001b[0;34m\u001b[0m\u001b[0;34m\u001b[0m\u001b[0;34m\u001b[0m\u001b[0m\n\u001b[1;32m    108\u001b[0m             \u001b[0;31m# counted as FNs\u001b[0m\u001b[0;34m\u001b[0m\u001b[0;34m\u001b[0m\u001b[0;34m\u001b[0m\u001b[0m\n\u001b[0;32m--> 109\u001b[0;31m             \u001b[0;32mfor\u001b[0m \u001b[0mj\u001b[0m \u001b[0;32min\u001b[0m \u001b[0mget_j\u001b[0m\u001b[0;34m(\u001b[0m\u001b[0;34m)\u001b[0m\u001b[0;34m:\u001b[0m\u001b[0;34m\u001b[0m\u001b[0;34m\u001b[0m\u001b[0m\n\u001b[0m\u001b[1;32m    110\u001b[0m                 \u001b[0mFN\u001b[0m \u001b[0;34m+=\u001b[0m \u001b[0;36m1\u001b[0m\u001b[0;34m\u001b[0m\u001b[0;34m\u001b[0m\u001b[0m\n\u001b[1;32m    111\u001b[0m         \u001b[0;32melse\u001b[0m\u001b[0;34m:\u001b[0m\u001b[0;34m\u001b[0m\u001b[0;34m\u001b[0m\u001b[0m\n",
            "\u001b[0;32m/content/gdrive/My Drive/RippleNet/ripplenet/common.py\u001b[0m in \u001b[0;36mget_j\u001b[0;34m()\u001b[0m\n\u001b[1;32m     99\u001b[0m         \u001b[0;32mdef\u001b[0m \u001b[0mget_j\u001b[0m\u001b[0;34m(\u001b[0m\u001b[0;34m)\u001b[0m\u001b[0;34m:\u001b[0m\u001b[0;34m\u001b[0m\u001b[0;34m\u001b[0m\u001b[0m\n\u001b[1;32m    100\u001b[0m             \u001b[0;34m'''get time index of all labeled events'''\u001b[0m\u001b[0;34m\u001b[0m\u001b[0;34m\u001b[0m\u001b[0m\n\u001b[0;32m--> 101\u001b[0;31m             \u001b[0midx\u001b[0m \u001b[0;34m=\u001b[0m \u001b[0mall_labels\u001b[0m\u001b[0;34m[\u001b[0m\u001b[0;34m'session'\u001b[0m\u001b[0;34m]\u001b[0m \u001b[0;34m==\u001b[0m \u001b[0mlabels\u001b[0m\u001b[0;34m[\u001b[0m\u001b[0;34m'session'\u001b[0m\u001b[0;34m]\u001b[0m\u001b[0;34m[\u001b[0m\u001b[0mi\u001b[0m\u001b[0;34m]\u001b[0m\u001b[0;34m\u001b[0m\u001b[0;34m\u001b[0m\u001b[0m\n\u001b[0m\u001b[1;32m    102\u001b[0m             \u001b[0mlbls\u001b[0m \u001b[0;34m=\u001b[0m \u001b[0mall_labels\u001b[0m\u001b[0;34m[\u001b[0m\u001b[0;34m'rippleLocs'\u001b[0m\u001b[0;34m]\u001b[0m\u001b[0;34m[\u001b[0m\u001b[0midx\u001b[0m\u001b[0;34m]\u001b[0m \u001b[0;34m-\u001b[0m\u001b[0;31m \u001b[0m\u001b[0;31m\\\u001b[0m\u001b[0;34m\u001b[0m\u001b[0;34m\u001b[0m\u001b[0m\n\u001b[1;32m    103\u001b[0m                 \u001b[0mlabels\u001b[0m\u001b[0;34m[\u001b[0m\u001b[0mi\u001b[0m\u001b[0;34m]\u001b[0m\u001b[0;34m[\u001b[0m\u001b[0;34m'rippleLocs'\u001b[0m\u001b[0;34m]\u001b[0m \u001b[0;34m-\u001b[0m \u001b[0mlabels\u001b[0m\u001b[0;34m[\u001b[0m\u001b[0mi\u001b[0m\u001b[0;34m]\u001b[0m\u001b[0;34m[\u001b[0m\u001b[0;34m'offset'\u001b[0m\u001b[0;34m]\u001b[0m\u001b[0;34m\u001b[0m\u001b[0;34m\u001b[0m\u001b[0m\n",
            "\u001b[0;31mIndexError\u001b[0m: index 200 is out of bounds for axis 0 with size 200"
          ]
        }
      ]
    },
    {
      "cell_type": "code",
      "metadata": {
        "id": "gd7CN6EeIIkf"
      },
      "source": [
        "print(df.to_latex(index=False))"
      ],
      "execution_count": null,
      "outputs": []
    },
    {
      "cell_type": "code",
      "metadata": {
        "id": "7aPBuYEJGLI7"
      },
      "source": [
        "# convert columns to float so Pandas will agree to compute mean and std\n",
        "df[['Model', 'TP', 'FP', 'FN', 'FP+FN', 'Precision', 'Recall', 'F_1']] = \\\n",
        "    df[['Model', 'TP', 'FP', 'FN', 'FP+FN', 'Precision', 'Recall', 'F_1']].astype(float)"
      ],
      "execution_count": null,
      "outputs": []
    },
    {
      "cell_type": "code",
      "metadata": {
        "id": "vrawCPL7GLI7"
      },
      "source": [
        "# mean\n",
        "df_mean = df.groupby('Variant').mean().reset_index()\n",
        "df_mean['Model'] = 'mean'\n",
        "df_mean"
      ],
      "execution_count": null,
      "outputs": []
    },
    {
      "cell_type": "code",
      "metadata": {
        "id": "_f3JbWulGLI7"
      },
      "source": [
        "# std\n",
        "df_std = df.groupby('Variant').std().reset_index()\n",
        "df_std['Model'] = 'st.dev'\n",
        "df_std"
      ],
      "execution_count": null,
      "outputs": []
    },
    {
      "cell_type": "code",
      "metadata": {
        "id": "_JbcfYI8GLI8"
      },
      "source": [
        "# print out rows for pasting into .tex sources.\n",
        "print(pd.concat([df_mean, df_std]).to_latex(index=False, float_format=\"%.3g\"))"
      ],
      "execution_count": null,
      "outputs": []
    },
    {
      "cell_type": "markdown",
      "metadata": {
        "id": "mhLEmjxBIIlQ"
      },
      "source": [
        "## figure 4\n",
        "Training loss, test metrics"
      ]
    },
    {
      "cell_type": "code",
      "metadata": {
        "id": "ilOZlzj0IIlS",
        "scrolled": false
      },
      "source": [
        "fig, axes = plt.subplots(2, 2, figsize=(12, 8), sharex=True, sharey='row')\n",
        "fig.subplots_adjust(wspace=0.1, left=0.1, right=0.95, bottom=0.1, top=0.95)\n",
        "#gs = GridSpec(2, 2, wspace=0.3, left=0.1, right=0.95, bottom=0.1, top=0.95)\n",
        "\n",
        "\n",
        "colors = [[0.]*3, [.33]*3, [0.66]*3]\n",
        "lws = [1.]*3\n",
        "#markers = ['o']*3 + ['d']*3\n",
        "\n",
        "\n",
        "# plot training loss for the different models\n",
        "for j in range(2):\n",
        "    #ax0 = fig.add_subplot(gs[0, 0])\n",
        "    ax = axes[0, j]\n",
        "    for i, loss in enumerate(losses[j*3:(j+1)*3]):\n",
        "        epochs = np.arange(len(loss['loss']))+1\n",
        "        ax.semilogy(epochs, loss['loss'], '-o', alpha=1, color=colors[i], lw=lws[i], \n",
        "                    label=r'$J_\\mathrm{train}^\\mathrm{M%i}$' % int(j*3 + i + 1),\n",
        "                   )\n",
        "        ax.semilogy(epochs, loss['val_loss'], '-d', color=colors[i], lw=lws[i], alpha=1,\n",
        "                     label=r'$J_\\mathrm{val}^\\mathrm{M%i}$' % int(j*3 + i + 1),\n",
        "                    )\n",
        "    if j == 0:\n",
        "        ax.set_ylabel('$J$', labelpad=0)\n",
        "    ax.legend(ncol=3, frameon=False, columnspacing=1)\n",
        "    #if j != 0:\n",
        "    #    ax.set_xlabel('Epoch', labelpad=0)\n",
        "    annotate_subplot(ax, ncols=2, nrows=2, letter='ab'[j])\n",
        "\n",
        "\n",
        "# plot training MSE\n",
        "#ax1 = fig.add_subplot(gs[0, 1], sharex=ax0)\n",
        "for j in range(2):\n",
        "    ax = axes[1, j]\n",
        "    for i, loss in enumerate(losses[j*3:(j+1)*3]):\n",
        "        epochs = np.arange(len(loss['mse']))+1\n",
        "        ax.semilogy(epochs, loss['mse'], '-o',  color=colors[i], lw=lws[i], alpha=1,\n",
        "                    label=r'$MSE_\\mathrm{train}^\\mathrm{M%i}$' % int(j*3 + i + 1))\n",
        "        ax.semilogy(epochs, loss['val_mse'], '-d', color=colors[i], lw=lws[i], alpha=1,\n",
        "                    label=r'$MSE_\\mathrm{val}^\\mathrm{M%i}$' % int(j*3 + i + 1)\n",
        "                )\n",
        "    if j == 0:\n",
        "        ax.set_ylabel('$MSE$', labelpad=0)\n",
        "    ax.legend(ncol=3, frameon=False, columnspacing=1)\n",
        "    ax.set_xlabel('epoch', labelpad=0)\n",
        "    annotate_subplot(ax, ncols=2, nrows=2, letter='cd'[j])\n",
        "\n",
        "# save figure\n",
        "fig.savefig(os.path.join('figures', 'figure04.pdf'), dpi=300, bbox_inches='tight', pad_inches=0.05)\n",
        "fig.savefig(os.path.join('figures', 'figure04.eps'), dpi=300, bbox_inches='tight', pad_inches=0.05)"
      ],
      "execution_count": null,
      "outputs": []
    },
    {
      "cell_type": "markdown",
      "metadata": {
        "id": "rf6Z8F4uIIlr"
      },
      "source": [
        "## figure 6\n",
        "Test dependence of (TP, FP, FN, precision, recall, F1) on threshold and width (ss.find_peaks hyperparameters)"
      ]
    },
    {
      "cell_type": "code",
      "metadata": {
        "id": "Q-DYvG0rIImg"
      },
      "source": [
        "thresholds = np.linspace(0.1, 0.95, 18)\n",
        "widths = np.linspace(0, 62.5, 11) #.astype(int) # width"
      ],
      "execution_count": null,
      "outputs": []
    },
    {
      "cell_type": "code",
      "metadata": {
        "id": "3yKApfkFIIms"
      },
      "source": [
        "# container\n",
        "df = pd.DataFrame(columns=['Variant', 'Model', 'threshold', 'width', 'TP', 'FP', 'FN', 'FP+FN', \n",
        "                           'Precision', 'Recall', 'F_1'], \n",
        "                  dtype='object')\n",
        "\n",
        "for threshold_ in thresholds:\n",
        "    for width_ in widths:\n",
        "        # iterate over models\n",
        "        for model, (Y_pred, f) in enumerate(zip(Y_preds, model_files)):\n",
        "            variant = os.path.split(f)[1].split('_')[1]\n",
        "            variant = variant.replace('directional', 'dir.')\n",
        "            \n",
        "            # get metrics\n",
        "            TP, FP, FN, precision, recall, F1 = get_metrics(X_val, Y_val, Y_pred, labels, all_labels,\n",
        "                                                            threshold_, distance, width_,\n",
        "                                                            y_label_width=y_label_width, Fs=Fs)\n",
        "\n",
        "            # fill in dataframe\n",
        "            row_df = pd.DataFrame([[variant, model+1, threshold_, width_, \n",
        "                                    TP, FP, FN, FP+FN, precision, recall, F1]],\n",
        "                                  columns=['Variant', 'Model', 'threshold', 'width', \n",
        "                                           'TP', 'FP', 'FN', 'FP+FN', 'Precision', 'Recall', 'F_1'], \n",
        "                                  dtype='object')\n",
        "\n",
        "            df = pd.concat([df, row_df], axis=0, ignore_index=True)\n",
        "\n",
        "# width in units of ms\n",
        "df.insert(len(df.columns), 'width (ms)', df['width']*1000 / Fs)\n",
        "\n",
        "# display dataframe\n",
        "df"
      ],
      "execution_count": null,
      "outputs": []
    },
    {
      "cell_type": "code",
      "metadata": {
        "id": "lu2e3GAcIImz",
        "scrolled": false
      },
      "source": [
        "fig, axes = plt.subplots(len(models), 7, figsize=(12, len(models)+2), sharex=True, sharey=True)\n",
        "from matplotlib.ticker import MaxNLocator\n",
        "\n",
        "# container for optimal detection settings\n",
        "df_opt = pd.DataFrame(columns=df.columns)\n",
        "\n",
        "for j, column in enumerate(['TP', 'FP', 'FN', 'FP+FN', 'Precision', 'Recall', 'F_1']):\n",
        "    values = [] # container to allow sharing colorbar\n",
        "    for i in range(len(models)):\n",
        "        df_ = df[df.Model==i+1][['threshold', 'width (ms)', column]]\n",
        "        df_ = df_.pivot('threshold', 'width (ms)', column)\n",
        "        values.append(df_.values.astype(float))\n",
        "        if (i == 0) & (j == 0):\n",
        "            x, y = np.meshgrid(df_.columns.values, df_.index.values)\n",
        "\n",
        "    values = np.array(values)\n",
        "    pc = np.percentile(values.flatten(), [1, 99])\n",
        "    levels = np.linspace(pc[0], pc[1], 21)\n",
        "    variant = None\n",
        "    k = 0\n",
        "    for i, f in enumerate(model_files):\n",
        "        variant = os.path.split(f)[1].split('_')[1]\n",
        "        \n",
        "        ax = axes[i, j]\n",
        "        if j == 0:\n",
        "            ax.set_ylabel('thresh.', labelpad=0)\n",
        "            annotate_subplot(ax, ncols=6, nrows=4, letter='M{}'.format(i+1), \n",
        "                             fontweight='normal', fontsize=14)\n",
        "        if (j==0) & (variant != last_variant):\n",
        "            annotate_subplot(ax, ncols=25, nrows=1, #len(models)*2, \n",
        "                             letter='abcdefghijklmnopqrstuvwxyz'[k])\n",
        "            k += 1\n",
        "        last_variant = variant\n",
        "\n",
        "\n",
        "        df_ = df[df.Model==i+1][['threshold', 'width (ms)', column]]\n",
        "        df_ = df_.pivot('threshold', 'width (ms)', column)\n",
        "        im = ax.contourf(x, y, values[i], levels=levels, \n",
        "                         cmap='inferno_r' if column in ['FP', 'FN', 'FP+FN'] else 'inferno', \n",
        "                         extend='both')\n",
        "        \n",
        "        if column == 'F_1':\n",
        "            inds = values[i] == values[i].max()\n",
        "            for i_, j_ in np.c_[np.where(inds)]:\n",
        "                df_opt = df_opt.append(df[(df['Model']==i+1) &\n",
        "                                 (df['width (ms)']==x[i_, j_]) &\n",
        "                                 (df['threshold']==y[i_, j_])],\n",
        "                             ignore_index=True)\n",
        "            ax.plot(x[inds], y[inds], 'kx')\n",
        "            \n",
        "            \n",
        "        if i == len(models)-1:\n",
        "            ax.set_xlabel('width (ms)', labelpad=0)\n",
        "            rect = np.array(ax.get_position().bounds)\n",
        "            rect[1] -= 0.08\n",
        "            rect[3] = 0.01\n",
        "            fig = plt.gcf()\n",
        "            cax = fig.add_axes(rect)\n",
        "            cbar = fig.colorbar(im, cax=cax, orientation='horizontal')\n",
        "            cbar.locator = MaxNLocator(nbins=2)\n",
        "            cbar.update_ticks()\n",
        "            \n",
        "            cbar.set_label('${}$'.format(column), labelpad=0)\n",
        "\n",
        "fig.savefig(os.path.join('figures', 'figure06.pdf'), dpi=300, bbox_inches='tight', pad_inches=0.05)\n",
        "fig.savefig(os.path.join('figures', 'figure06.eps'), dpi=300, bbox_inches='tight', pad_inches=0.05)"
      ],
      "execution_count": null,
      "outputs": []
    },
    {
      "cell_type": "code",
      "metadata": {
        "id": "DO7AGLFiIIm-"
      },
      "source": [
        "df_opt"
      ],
      "execution_count": null,
      "outputs": []
    },
    {
      "cell_type": "code",
      "metadata": {
        "id": "OGQb9MxvIInC"
      },
      "source": [
        "print(df_opt.to_latex(index=False))"
      ],
      "execution_count": null,
      "outputs": []
    },
    {
      "cell_type": "code",
      "metadata": {
        "id": "AfdwnlX0ghkO"
      },
      "source": [
        "# mean thresholds and widths per model as multiple settings can result in similar F1 score (not used)\n",
        "df_opt_copy = df_opt.copy()\n",
        "df_opt_copy[['Model', 'threshold', 'width', 'width (ms)', \n",
        "             'TP', 'FP', 'FN', 'FP+FN', 'Precision', 'Recall', 'F_1']] = \\\n",
        "    df_opt_copy[['Model', 'threshold', 'width', 'width (ms)', \n",
        "                 'TP', 'FP', 'FN', 'FP+FN', 'Precision', 'Recall', 'F_1']].astype(float)\n",
        "\n",
        "df_opt_copy.groupby(['Variant', 'Model']).mean()"
      ],
      "execution_count": null,
      "outputs": []
    },
    {
      "cell_type": "code",
      "metadata": {
        "id": "RAuykAiRGLI9"
      },
      "source": [
        "df_opt_mean = df_opt_copy.groupby(['Variant']).mean()\n",
        "df_opt_mean.Model = 'mean'\n",
        "df_opt_mean"
      ],
      "execution_count": null,
      "outputs": []
    },
    {
      "cell_type": "code",
      "metadata": {
        "id": "k1oRAOEDGLI9"
      },
      "source": [
        "df_opt_std = df_opt_copy.groupby(['Variant']).std()\n",
        "df_opt_std.Model = 'st.dev'\n",
        "df_opt_std"
      ],
      "execution_count": null,
      "outputs": []
    },
    {
      "cell_type": "code",
      "metadata": {
        "id": "eGg4NC2LGLI-"
      },
      "source": [
        "df_mean_std = pd.concat([df_opt_mean, df_opt_std])\n",
        "df_mean_std"
      ],
      "execution_count": null,
      "outputs": []
    },
    {
      "cell_type": "code",
      "metadata": {
        "id": "cYYhgJMkGLI-"
      },
      "source": [
        "# print out rows for pasting into .tex sources.\n",
        "print(df_mean_std.to_latex(index=True, float_format=\"%.3g\"))"
      ],
      "execution_count": null,
      "outputs": []
    },
    {
      "cell_type": "code",
      "metadata": {
        "id": "6yttt4uHghkQ"
      },
      "source": [
        "# save model file path and corresponding threshold and width\n",
        "best_model_settings = []\n",
        "for i, model_file in enumerate(model_files):\n",
        "    best_model_settings += [dict(\n",
        "        model_file = model_file,\n",
        "        threshold = df_opt_mean.loc[i].threshold,\n",
        "        width = df_opt_mean.loc[i].width,\n",
        "        distance = distance\n",
        "    )]\n",
        "with open('best_model_settings.pkl', 'wb') as f:\n",
        "    pickle.dump(best_model_settings, f)"
      ],
      "execution_count": null,
      "outputs": []
    },
    {
      "cell_type": "markdown",
      "metadata": {
        "id": "Y5R_VWnmIInE"
      },
      "source": [
        "## Figure 7, 8"
      ]
    },
    {
      "cell_type": "code",
      "metadata": {
        "id": "74ItqiIpa5Da"
      },
      "source": [
        "df_opt[df_opt.F_1 == df_opt.F_1.max()]"
      ],
      "execution_count": null,
      "outputs": []
    },
    {
      "cell_type": "code",
      "metadata": {
        "id": "X3mZPeZqIInQ"
      },
      "source": [
        "# settings for the \"best\" model\n",
        "row = df_opt.F_1 == df_opt.F_1.max()\n",
        "threshold = df_opt[row].threshold.values[-1]\n",
        "width = df_opt[row].width.values[-1]\n",
        "Y_pred = Y_preds[df_opt[row].Model.values[-1] - 1]"
      ],
      "execution_count": null,
      "outputs": []
    },
    {
      "cell_type": "code",
      "metadata": {
        "id": "go5-eljyhEO-"
      },
      "source": [
        "# which model file\n",
        "model_files[df_opt[row].Model.values[-1] - 1]"
      ],
      "execution_count": null,
      "outputs": []
    },
    {
      "cell_type": "code",
      "metadata": {
        "id": "_8AHXmrTnZU2"
      },
      "source": [
        "# write best model info to file for loading in other notebooks\n",
        "best_model = dict(\n",
        "    model_file=model_files[df_opt[row].Model.values[-1] - 1], \n",
        "    threshold=threshold,\n",
        "    width=width,\n",
        "    distance=distance,\n",
        ")\n",
        "with open('best_model.pkl', 'wb') as f:\n",
        "    pickle.dump(best_model, f)"
      ],
      "execution_count": null,
      "outputs": []
    },
    {
      "cell_type": "code",
      "metadata": {
        "id": "icImeTmejCaH"
      },
      "source": [
        "TP, FP, FN, precision, recall, F1 = get_metrics(X_val, Y_val, Y_pred, labels, all_labels,\n",
        "                                                    threshold, distance, width,\n",
        "                                                    y_label_width=y_label_width, Fs=Fs)"
      ],
      "execution_count": null,
      "outputs": []
    },
    {
      "cell_type": "code",
      "metadata": {
        "id": "iKjolugHjCaJ"
      },
      "source": [
        "TPs, FPs, FNs = get_TPs_FPs_FNs(X_val, Y_val, Y_pred, X1, S, labels, all_labels, \n",
        "                                threshold, distance, width,\n",
        "                                Fs=Fs, y_label_width=y_label_width)"
      ],
      "execution_count": null,
      "outputs": []
    },
    {
      "cell_type": "code",
      "metadata": {
        "id": "U2fs3ygpK1TC",
        "scrolled": false
      },
      "source": [
        "# plot validation set entries with FP mistakes (FP and/or FN predictions)\n",
        "badinds = np.unique(FPs['i'])\n",
        "\n",
        "for h in range(badinds.size // ncols):\n",
        "    inds = badinds[h*ncols:(h+1)*ncols]\n",
        "\n",
        "    fig, axes = plt.subplots(4, ncols, figsize=(12, 7), \n",
        "                            sharex=True, sharey='row')\n",
        "    fig.subplots_adjust(left=0.05, right=0.95, bottom=0.05, top=0.925, wspace=0.1, hspace=0.4, )\n",
        "\n",
        "    for i, ind in enumerate(inds):\n",
        "        X_val_ = X_val[ind]\n",
        "        Y_ = Y[ind, :].flatten()\n",
        "        y = Y_pred[ind]\n",
        "        X0_ = X0[ind]\n",
        "        X1_ = X1[ind]\n",
        "        S_ = S[ind]\n",
        "\n",
        "        # Raw LFP + symbols for labels\n",
        "        axes[0, i].plot(time, X0_, 'k', lw=0.5, label='__nolabel__')\n",
        "        idx = all_labels['session'] == labels['session'][ind]\n",
        "        lbls = all_labels['rippleLocs'][idx] - labels[ind]['rippleLocs'] - labels[ind]['offset']\n",
        "        lblinds = lbls[(lbls >= 0) & (lbls < Fs)]\n",
        "        axes[0, i].plot(time[lblinds], X0_[lblinds]+0.4, \n",
        "                        'D', mec='k', mfc='w', ms=8, label='SPW-R', clip_on=False)\n",
        "\n",
        "        for spine in ['top', 'bottom', 'right']:\n",
        "            axes[0, i].spines[spine].set_visible(False)\n",
        "        plt.setp(axes[0, i].get_xticklabels(), visible=False)\n",
        "        axes[0, i].xaxis.set_ticks_position('none')\n",
        "        if i == ncols - 1:\n",
        "            axes[0, i].legend(loc=(0.95, 0.2), frameon=False, handletextpad=0)\n",
        "        \n",
        "        # band-pass filtered LFP\n",
        "        axes[1, i].plot(time, X1_, 'k', lw=0.5, label=r'$\\phi_\\mathrm{BP}^{\\langle j \\rangle}(t)$')    \n",
        "        for spine in ['top', 'bottom', 'right']:\n",
        "            axes[1, i].spines[spine].set_visible(False)\n",
        "        plt.setp(axes[1, i].get_xticklabels(), visible=False)\n",
        "        axes[1, i].xaxis.set_ticks_position('none')\n",
        "\n",
        "        # Spectrograms\n",
        "        vmin, vmax = np.exp(np.percentile(np.log(S), [1, 99]))\n",
        "        im = axes[2, i].pcolormesh(time, S_freqs, S_.T, norm=colors.LogNorm(vmin=vmin, vmax=vmax), \n",
        "                                   cmap='inferno',\n",
        "                                   rasterized=True)\n",
        "        if i == inds.size-1:\n",
        "            rect = np.array(axes[2, i].get_position().bounds)\n",
        "            rect[0] += rect[2] + 0.01\n",
        "            rect[2] = 0.01\n",
        "            fig = plt.gcf()\n",
        "            cax = fig.add_axes(rect)\n",
        "            \n",
        "            cbar = fig.colorbar(im, cax=cax, extend='both')\n",
        "            cbar.set_ticks(10.**np.arange(-6, 5))\n",
        "            cbar.set_label('(a.u.)', labelpad=0)\n",
        "\n",
        "        # plot one-hot encoding\n",
        "        #axes[3, i].plot(time, Y_, 'gray', lw=0.5, label='__nolabel__', clip_on=False)\n",
        "\n",
        "        # plot \\hat{y} + predictions\n",
        "        axes[3, i].plot(time, y, 'k', lw=0.5, label='__nolabel__', #label='$\\hat{y}(t)$', \n",
        "                        clip_on=False)\n",
        "\n",
        "        # mark TP events:\n",
        "        j = TPs['j'][TPs['i'] == ind]\n",
        "        axes[3, i].plot(time[j], y[j]+0.1, 'D', mec='k', mfc='gray', ms=8, label='TP', clip_on=False) \n",
        "\n",
        "        # mark FP events:\n",
        "        j = FPs['j'][FPs['i'] == ind]\n",
        "        axes[3, i].plot(time[j], y[j]+0.1, '^', mec='k', mfc='gray', ms=8, label='FP', clip_on=False) \n",
        "\n",
        "        # mark FN events:\n",
        "        j = FNs['j'][FNs['i'] == ind]\n",
        "        axes[3, i].plot(time[j], y[j]+0.1, 'v', mec='k', mfc='gray', ms=8, label='FN', clip_on=False) \n",
        "\n",
        "        if i == ncols-1:\n",
        "            axes[3, i].legend(loc=(0.95, 0.2), frameon=False, handletextpad=0)\n",
        "\n",
        "\n",
        "        axes[3, i].plot([0.8, 0.9], [-0.05, -0.05], 'k-', lw=1, clip_on=False)\n",
        "        axes[3, i].text(0.85, -0.1, '100 ms', va='top', ha='center')\n",
        "        axes[3, i].set_ylim(0, 1.1)\n",
        "        axes[3, i].set_xlim(time[0], time[-1])\n",
        "        axes[3, i].set_yticks([0, 1])\n",
        "        for spine in ['top', 'bottom', 'right']:\n",
        "            axes[3, i].spines[spine].set_visible(False)\n",
        "        plt.setp(axes[3, i].get_xticklabels(), visible=False)\n",
        "        axes[3, i].xaxis.set_ticks_position('none')\n",
        "\n",
        "\n",
        "        axes[0, i].set_title(r'$X^{\\langle ' + str(ind+1)+ r' \\rangle}(t)$')\n",
        "        axes[1, i].set_title(r'$\\phi_\\mathrm{BP}^{\\langle ' + str(ind+1)+ r' \\rangle}(t)$')\n",
        "        axes[2, i].set_title(r'$S^{\\langle ' + str(ind+1)+ r' \\rangle}(t, f)$')\n",
        "        axes[3, i].set_title(r'$\\hat{y}^{\\langle ' + str(ind+1)+ r' \\rangle}(t)$')\n",
        "        \n",
        "        if i == 0:\n",
        "            axes[0, i].set_ylabel('(mV)', labelpad=0)\n",
        "            axes[1, i].set_ylabel('(mV)', labelpad=0)\n",
        "            axes[2, i].set_ylabel('$f$ (Hz)', labelpad=0)\n",
        "            axes[3, i].set_ylabel('$\\hat{y}$', labelpad=0)\n",
        "\n",
        "            annotate_subplot(axes[0, i], ncols=10, nrows=4, letter='a')\n",
        "            annotate_subplot(axes[1, i], ncols=10, nrows=4, letter='b')\n",
        "            annotate_subplot(axes[2, i], ncols=10, nrows=4, letter='c')\n",
        "            annotate_subplot(axes[3, i], ncols=10, nrows=4, letter='d')\n",
        "    \n",
        "    fig.savefig(os.path.join('figures', 'figure07_{:02}.pdf'.format(h)), \n",
        "                dpi=300, bbox_inches='tight', pad_inches=0.05)\n",
        "    fig.savefig(os.path.join('figures', 'figure07_{:02}.eps'.format(h)), \n",
        "                dpi=300, bbox_inches='tight', pad_inches=0.05)"
      ],
      "execution_count": null,
      "outputs": []
    },
    {
      "cell_type": "code",
      "metadata": {
        "scrolled": false,
        "id": "jL9tkIE9GLJA"
      },
      "source": [
        "# plot validation set entries with FN mistakes. \n",
        "# Drop entries shown together with FP mistakes\n",
        "badinds = np.unique(FNs['i'])\n",
        "for i in np.unique(FPs['i']):\n",
        "    badinds = badinds[badinds != i]\n",
        "\n",
        "for h in range(badinds.size // ncols):\n",
        "    inds = badinds[h*ncols:(h+1)*ncols]\n",
        "\n",
        "    fig, axes = plt.subplots(4, ncols, figsize=(12, 7), \n",
        "                            sharex=True, sharey='row')\n",
        "    fig.subplots_adjust(left=0.05, right=0.95, bottom=0.05, top=0.925, wspace=0.1, hspace=0.4, )\n",
        "\n",
        "    for i, ind in enumerate(inds):\n",
        "        X_val_ = X_val[ind]\n",
        "        Y_ = Y[ind, :].flatten()\n",
        "        y = Y_pred[ind]\n",
        "        X0_ = X0[ind]\n",
        "        X1_ = X1[ind]\n",
        "        S_ = S[ind]\n",
        "\n",
        "        # Raw LFP + symbols for labels\n",
        "        axes[0, i].plot(time, X0_, 'k', lw=0.5, label='__nolabel__')\n",
        "        idx = all_labels['session'] == labels['session'][ind]\n",
        "        lbls = all_labels['rippleLocs'][idx] - labels[ind]['rippleLocs'] - labels[ind]['offset']\n",
        "        lblinds = lbls[(lbls >= 0) & (lbls < Fs)]\n",
        "        axes[0, i].plot(time[lblinds], X0_[lblinds]+0.4, \n",
        "                        'D', mec='k', mfc='w', ms=8, label='SPW-R', clip_on=False)\n",
        "\n",
        "        for spine in ['top', 'bottom', 'right']:\n",
        "            axes[0, i].spines[spine].set_visible(False)\n",
        "        plt.setp(axes[0, i].get_xticklabels(), visible=False)\n",
        "        axes[0, i].xaxis.set_ticks_position('none')\n",
        "        if i == ncols - 1:\n",
        "            axes[0, i].legend(loc=(0.95, 0.2), frameon=False, handletextpad=0)\n",
        "        \n",
        "        # band-pass filtered LFP\n",
        "        axes[1, i].plot(time, X1_, 'k', lw=0.5, label=r'$\\phi_\\mathrm{BP}^{\\langle j \\rangle}(t)$')    \n",
        "        for spine in ['top', 'bottom', 'right']:\n",
        "            axes[1, i].spines[spine].set_visible(False)\n",
        "        plt.setp(axes[1, i].get_xticklabels(), visible=False)\n",
        "        axes[1, i].xaxis.set_ticks_position('none')\n",
        "\n",
        "        # Spectrograms\n",
        "        vmin, vmax = np.exp(np.percentile(np.log(S), [1, 99]))\n",
        "        im = axes[2, i].pcolormesh(time, S_freqs, S_.T, norm=colors.LogNorm(vmin=vmin, vmax=vmax), \n",
        "                                   cmap='inferno',\n",
        "                                   rasterized=True)\n",
        "        if i == inds.size-1:\n",
        "            rect = np.array(axes[2, i].get_position().bounds)\n",
        "            rect[0] += rect[2] + 0.01\n",
        "            rect[2] = 0.01\n",
        "            fig = plt.gcf()\n",
        "            cax = fig.add_axes(rect)\n",
        "            \n",
        "            cbar = fig.colorbar(im, cax=cax, extend='both')\n",
        "            cbar.set_ticks(10.**np.arange(-6, 5))\n",
        "            cbar.set_label('(a.u.)', labelpad=0)\n",
        "\n",
        "        # plot one-hot encoding\n",
        "        #axes[3, i].plot(time, Y_, 'gray', lw=0.5, label='__nolabel__', clip_on=False)\n",
        "\n",
        "        # plot \\hat{y} + predictions\n",
        "        axes[3, i].plot(time, y, 'k', lw=0.5, label='__nolabel__', #label='$\\hat{y}(t)$', \n",
        "                        clip_on=False)\n",
        "\n",
        "        # mark TP events:\n",
        "        j = TPs['j'][TPs['i'] == ind]\n",
        "        axes[3, i].plot(time[j], y[j]+0.1, 'D', mec='k', mfc='gray', ms=8, label='TP', clip_on=False) \n",
        "\n",
        "        # mark FP events:\n",
        "        j = FPs['j'][FPs['i'] == ind]\n",
        "        axes[3, i].plot(time[j], y[j]+0.1, '^', mec='k', mfc='gray', ms=8, label='FP', clip_on=False) \n",
        "\n",
        "        # mark FN events:\n",
        "        j = FNs['j'][FNs['i'] == ind]\n",
        "        axes[3, i].plot(time[j], y[j]+0.1, 'v', mec='k', mfc='gray', ms=8, label='FN', clip_on=False) \n",
        "\n",
        "        if i == ncols-1:\n",
        "            axes[3, i].legend(loc=(0.95, 0.2), frameon=False, handletextpad=0)\n",
        "\n",
        "\n",
        "        axes[3, i].plot([0.8, 0.9], [-0.05, -0.05], 'k-', lw=1, clip_on=False)\n",
        "        axes[3, i].text(0.85, -0.1, '100 ms', va='top', ha='center')\n",
        "        axes[3, i].set_ylim(0, 1.1)\n",
        "        axes[3, i].set_xlim(time[0], time[-1])\n",
        "        axes[3, i].set_yticks([0, 1])\n",
        "        for spine in ['top', 'bottom', 'right']:\n",
        "            axes[3, i].spines[spine].set_visible(False)\n",
        "        plt.setp(axes[3, i].get_xticklabels(), visible=False)\n",
        "        axes[3, i].xaxis.set_ticks_position('none')\n",
        "\n",
        "\n",
        "        axes[0, i].set_title(r'$X^{\\langle ' + str(ind+1)+ r' \\rangle}(t)$')\n",
        "        axes[1, i].set_title(r'$\\phi_\\mathrm{BP}^{\\langle ' + str(ind+1)+ r' \\rangle}(t)$')\n",
        "        axes[2, i].set_title(r'$S^{\\langle ' + str(ind+1)+ r' \\rangle}(t, f)$')\n",
        "        axes[3, i].set_title(r'$\\hat{y}^{\\langle ' + str(ind+1)+ r' \\rangle}(t)$')\n",
        "        \n",
        "        if i == 0:\n",
        "            axes[0, i].set_ylabel('(mV)', labelpad=0)\n",
        "            axes[1, i].set_ylabel('(mV)', labelpad=0)\n",
        "            axes[2, i].set_ylabel('$f$ (Hz)', labelpad=0)\n",
        "            axes[3, i].set_ylabel('$\\hat{y}$', labelpad=0)\n",
        "\n",
        "            annotate_subplot(axes[0, i], ncols=10, nrows=4, letter='a')\n",
        "            annotate_subplot(axes[1, i], ncols=10, nrows=4, letter='b')\n",
        "            annotate_subplot(axes[2, i], ncols=10, nrows=4, letter='c')\n",
        "            annotate_subplot(axes[3, i], ncols=10, nrows=4, letter='d')\n",
        "    \n",
        "    fig.savefig(os.path.join('figures', 'figure08_{:02}.pdf'.format(h)), \n",
        "                dpi=300, bbox_inches='tight', pad_inches=0.05)\n",
        "    fig.savefig(os.path.join('figures', 'figure08_{:02}.eps'.format(h)), \n",
        "                dpi=300, bbox_inches='tight', pad_inches=0.05)"
      ],
      "execution_count": null,
      "outputs": []
    },
    {
      "cell_type": "code",
      "metadata": {
        "id": "5NrzYcQiGLJA"
      },
      "source": [
        ""
      ],
      "execution_count": null,
      "outputs": []
    }
  ]
}